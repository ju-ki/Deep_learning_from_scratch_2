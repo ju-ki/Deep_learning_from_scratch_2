{
 "cells": [
  {
   "cell_type": "code",
   "execution_count": 1,
   "metadata": {},
   "outputs": [],
   "source": [
    "import pandas as pd\n",
    "from sklearn.model_selection import train_test_split\n",
    "df = pd.read_csv('./newsCorpora_re.csv', header=None, sep='\\t', names=['ID', 'TITLE', 'URL', 'PUBLISHER', 'CATEGORY', 'STORY', 'HOSTNAME', 'TIMESTAMP'])\n",
    "df = df.loc[df['PUBLISHER'].isin(['Reuters', 'Huffington Post', 'Businessweek', 'Contactmusic.com', 'Daily Mail']), ['TITLE', 'CATEGORY']]"
   ]
  },
  {
   "cell_type": "code",
   "execution_count": 2,
   "metadata": {},
   "outputs": [
    {
     "name": "stdout",
     "output_type": "stream",
     "text": [
      "b    4501\n",
      "e    4235\n",
      "t    1220\n",
      "m     728\n",
      "Name: CATEGORY, dtype: int64\n",
      "b    563\n",
      "e    529\n",
      "t    153\n",
      "m     91\n",
      "Name: CATEGORY, dtype: int64\n",
      "b    563\n",
      "e    529\n",
      "t    153\n",
      "m     91\n",
      "Name: CATEGORY, dtype: int64\n"
     ]
    }
   ],
   "source": [
    "train, valid_test = train_test_split(df, test_size=0.2, shuffle=True, random_state=0, stratify=df[\"CATEGORY\"])\n",
    "valid, test = train_test_split(valid_test, test_size=0.5, shuffle=True, random_state=0, stratify=valid_test[\"CATEGORY\"])\n",
    "print(train[\"CATEGORY\"].value_counts())\n",
    "print(valid[\"CATEGORY\"].value_counts())\n",
    "print(valid[\"CATEGORY\"].value_counts())"
   ]
  },
  {
   "cell_type": "code",
   "execution_count": 3,
   "metadata": {},
   "outputs": [
    {
     "data": {
      "text/html": [
       "<div>\n",
       "<style scoped>\n",
       "    .dataframe tbody tr th:only-of-type {\n",
       "        vertical-align: middle;\n",
       "    }\n",
       "\n",
       "    .dataframe tbody tr th {\n",
       "        vertical-align: top;\n",
       "    }\n",
       "\n",
       "    .dataframe thead th {\n",
       "        text-align: right;\n",
       "    }\n",
       "</style>\n",
       "<table border=\"1\" class=\"dataframe\">\n",
       "  <thead>\n",
       "    <tr style=\"text-align: right;\">\n",
       "      <th></th>\n",
       "      <th>TITLE</th>\n",
       "      <th>CATEGORY</th>\n",
       "    </tr>\n",
       "  </thead>\n",
       "  <tbody>\n",
       "    <tr>\n",
       "      <th>0</th>\n",
       "      <td>tesla is not     ing around with fires anymore</td>\n",
       "      <td>t</td>\n",
       "    </tr>\n",
       "    <tr>\n",
       "      <th>1</th>\n",
       "      <td>angelina jolie lifts the lid on rock solid rel...</td>\n",
       "      <td>e</td>\n",
       "    </tr>\n",
       "    <tr>\n",
       "      <th>2</th>\n",
       "      <td>update 0 adidas hit by sales drop at golf busi...</td>\n",
       "      <td>b</td>\n",
       "    </tr>\n",
       "    <tr>\n",
       "      <th>3</th>\n",
       "      <td>julia roberts   julia roberts opens up about h...</td>\n",
       "      <td>e</td>\n",
       "    </tr>\n",
       "    <tr>\n",
       "      <th>4</th>\n",
       "      <td>transformers  age of extinction  reviewed    ...</td>\n",
       "      <td>e</td>\n",
       "    </tr>\n",
       "  </tbody>\n",
       "</table>\n",
       "</div>"
      ],
      "text/plain": [
       "                                               TITLE CATEGORY\n",
       "0     tesla is not     ing around with fires anymore        t\n",
       "1  angelina jolie lifts the lid on rock solid rel...        e\n",
       "2  update 0 adidas hit by sales drop at golf busi...        b\n",
       "3  julia roberts   julia roberts opens up about h...        e\n",
       "4   transformers  age of extinction  reviewed    ...        e"
      ]
     },
     "execution_count": 3,
     "metadata": {},
     "output_type": "execute_result"
    }
   ],
   "source": [
    "import string\n",
    "import re\n",
    "\n",
    "def preprocessing(text):\n",
    "    table = str.maketrans(string.punctuation, \" \"*len(string.punctuation))\n",
    "    text = text.translate(table)#記号をスペース変換\n",
    "    text = text.lower()\n",
    "    text = re.sub('[0-9]+', \"0\", text)\n",
    "    \n",
    "    return text\n",
    "\n",
    "df = pd.concat([train, valid, test], axis=0)\n",
    "df.reset_index(drop=True, inplace=True)\n",
    "\n",
    "df[\"TITLE\"] = df[\"TITLE\"].map(lambda x: preprocessing(x))\n",
    "df.head()"
   ]
  },
  {
   "cell_type": "code",
   "execution_count": 4,
   "metadata": {},
   "outputs": [
    {
     "data": {
      "text/html": [
       "<div>\n",
       "<style scoped>\n",
       "    .dataframe tbody tr th:only-of-type {\n",
       "        vertical-align: middle;\n",
       "    }\n",
       "\n",
       "    .dataframe tbody tr th {\n",
       "        vertical-align: top;\n",
       "    }\n",
       "\n",
       "    .dataframe thead th {\n",
       "        text-align: right;\n",
       "    }\n",
       "</style>\n",
       "<table border=\"1\" class=\"dataframe\">\n",
       "  <thead>\n",
       "    <tr style=\"text-align: right;\">\n",
       "      <th></th>\n",
       "      <th>0k</th>\n",
       "      <th>0m</th>\n",
       "      <th>0million</th>\n",
       "      <th>0nd</th>\n",
       "      <th>0s</th>\n",
       "      <th>0st</th>\n",
       "      <th>0th</th>\n",
       "      <th>aa</th>\n",
       "      <th>aaliyah</th>\n",
       "      <th>abbvie</th>\n",
       "      <th>...</th>\n",
       "      <th>you to</th>\n",
       "      <th>young</th>\n",
       "      <th>your</th>\n",
       "      <th>your mother</th>\n",
       "      <th>yr</th>\n",
       "      <th>yuan</th>\n",
       "      <th>zac</th>\n",
       "      <th>zac efron</th>\n",
       "      <th>zendaya</th>\n",
       "      <th>zone</th>\n",
       "    </tr>\n",
       "  </thead>\n",
       "  <tbody>\n",
       "    <tr>\n",
       "      <th>0</th>\n",
       "      <td>0.0</td>\n",
       "      <td>0.0</td>\n",
       "      <td>0.0</td>\n",
       "      <td>0.0</td>\n",
       "      <td>0.0</td>\n",
       "      <td>0.0</td>\n",
       "      <td>0.0</td>\n",
       "      <td>0.0</td>\n",
       "      <td>0.0</td>\n",
       "      <td>0.0</td>\n",
       "      <td>...</td>\n",
       "      <td>0.0</td>\n",
       "      <td>0.0</td>\n",
       "      <td>0.0</td>\n",
       "      <td>0.0</td>\n",
       "      <td>0.0</td>\n",
       "      <td>0.0</td>\n",
       "      <td>0.0</td>\n",
       "      <td>0.0</td>\n",
       "      <td>0.0</td>\n",
       "      <td>0.0</td>\n",
       "    </tr>\n",
       "    <tr>\n",
       "      <th>1</th>\n",
       "      <td>0.0</td>\n",
       "      <td>0.0</td>\n",
       "      <td>0.0</td>\n",
       "      <td>0.0</td>\n",
       "      <td>0.0</td>\n",
       "      <td>0.0</td>\n",
       "      <td>0.0</td>\n",
       "      <td>0.0</td>\n",
       "      <td>0.0</td>\n",
       "      <td>0.0</td>\n",
       "      <td>...</td>\n",
       "      <td>0.0</td>\n",
       "      <td>0.0</td>\n",
       "      <td>0.0</td>\n",
       "      <td>0.0</td>\n",
       "      <td>0.0</td>\n",
       "      <td>0.0</td>\n",
       "      <td>0.0</td>\n",
       "      <td>0.0</td>\n",
       "      <td>0.0</td>\n",
       "      <td>0.0</td>\n",
       "    </tr>\n",
       "    <tr>\n",
       "      <th>2</th>\n",
       "      <td>0.0</td>\n",
       "      <td>0.0</td>\n",
       "      <td>0.0</td>\n",
       "      <td>0.0</td>\n",
       "      <td>0.0</td>\n",
       "      <td>0.0</td>\n",
       "      <td>0.0</td>\n",
       "      <td>0.0</td>\n",
       "      <td>0.0</td>\n",
       "      <td>0.0</td>\n",
       "      <td>...</td>\n",
       "      <td>0.0</td>\n",
       "      <td>0.0</td>\n",
       "      <td>0.0</td>\n",
       "      <td>0.0</td>\n",
       "      <td>0.0</td>\n",
       "      <td>0.0</td>\n",
       "      <td>0.0</td>\n",
       "      <td>0.0</td>\n",
       "      <td>0.0</td>\n",
       "      <td>0.0</td>\n",
       "    </tr>\n",
       "    <tr>\n",
       "      <th>3</th>\n",
       "      <td>0.0</td>\n",
       "      <td>0.0</td>\n",
       "      <td>0.0</td>\n",
       "      <td>0.0</td>\n",
       "      <td>0.0</td>\n",
       "      <td>0.0</td>\n",
       "      <td>0.0</td>\n",
       "      <td>0.0</td>\n",
       "      <td>0.0</td>\n",
       "      <td>0.0</td>\n",
       "      <td>...</td>\n",
       "      <td>0.0</td>\n",
       "      <td>0.0</td>\n",
       "      <td>0.0</td>\n",
       "      <td>0.0</td>\n",
       "      <td>0.0</td>\n",
       "      <td>0.0</td>\n",
       "      <td>0.0</td>\n",
       "      <td>0.0</td>\n",
       "      <td>0.0</td>\n",
       "      <td>0.0</td>\n",
       "    </tr>\n",
       "    <tr>\n",
       "      <th>4</th>\n",
       "      <td>0.0</td>\n",
       "      <td>0.0</td>\n",
       "      <td>0.0</td>\n",
       "      <td>0.0</td>\n",
       "      <td>0.0</td>\n",
       "      <td>0.0</td>\n",
       "      <td>0.0</td>\n",
       "      <td>0.0</td>\n",
       "      <td>0.0</td>\n",
       "      <td>0.0</td>\n",
       "      <td>...</td>\n",
       "      <td>0.0</td>\n",
       "      <td>0.0</td>\n",
       "      <td>0.0</td>\n",
       "      <td>0.0</td>\n",
       "      <td>0.0</td>\n",
       "      <td>0.0</td>\n",
       "      <td>0.0</td>\n",
       "      <td>0.0</td>\n",
       "      <td>0.0</td>\n",
       "      <td>0.0</td>\n",
       "    </tr>\n",
       "  </tbody>\n",
       "</table>\n",
       "<p>5 rows × 2851 columns</p>\n",
       "</div>"
      ],
      "text/plain": [
       "    0k   0m  0million  0nd   0s  0st  0th   aa  aaliyah  abbvie  ...  you to  \\\n",
       "0  0.0  0.0       0.0  0.0  0.0  0.0  0.0  0.0      0.0     0.0  ...     0.0   \n",
       "1  0.0  0.0       0.0  0.0  0.0  0.0  0.0  0.0      0.0     0.0  ...     0.0   \n",
       "2  0.0  0.0       0.0  0.0  0.0  0.0  0.0  0.0      0.0     0.0  ...     0.0   \n",
       "3  0.0  0.0       0.0  0.0  0.0  0.0  0.0  0.0      0.0     0.0  ...     0.0   \n",
       "4  0.0  0.0       0.0  0.0  0.0  0.0  0.0  0.0      0.0     0.0  ...     0.0   \n",
       "\n",
       "   young  your  your mother   yr  yuan  zac  zac efron  zendaya  zone  \n",
       "0    0.0   0.0          0.0  0.0   0.0  0.0        0.0      0.0   0.0  \n",
       "1    0.0   0.0          0.0  0.0   0.0  0.0        0.0      0.0   0.0  \n",
       "2    0.0   0.0          0.0  0.0   0.0  0.0        0.0      0.0   0.0  \n",
       "3    0.0   0.0          0.0  0.0   0.0  0.0        0.0      0.0   0.0  \n",
       "4    0.0   0.0          0.0  0.0   0.0  0.0        0.0      0.0   0.0  \n",
       "\n",
       "[5 rows x 2851 columns]"
      ]
     },
     "execution_count": 4,
     "metadata": {},
     "output_type": "execute_result"
    }
   ],
   "source": [
    "from sklearn.feature_extraction.text import TfidfVectorizer\n",
    "train_valid = df[:len(train) + len(valid)]\n",
    "test = df[len(train) + len(valid):]\n",
    "\n",
    "vec_tfidf = TfidfVectorizer(min_df=10, ngram_range=(1, 2))\n",
    "\n",
    "X_train_valid = vec_tfidf.fit_transform(train_valid[\"TITLE\"])\n",
    "X_test = vec_tfidf.transform(test[\"TITLE\"])\n",
    "\n",
    "X_train_valid = pd.DataFrame(X_train_valid.toarray(), columns=vec_tfidf.get_feature_names())\n",
    "X_test = pd.DataFrame(X_test.toarray(), columns=vec_tfidf.get_feature_names())\n",
    "\n",
    "\n",
    "X_train = X_train_valid[:len(train)]\n",
    "X_valid = X_train_valid[len(train):]\n",
    "\n",
    "X_train.head()"
   ]
  },
  {
   "cell_type": "code",
   "execution_count": 5,
   "metadata": {},
   "outputs": [
    {
     "data": {
      "text/plain": [
       "LogisticRegression(max_iter=10000, random_state=0)"
      ]
     },
     "execution_count": 5,
     "metadata": {},
     "output_type": "execute_result"
    }
   ],
   "source": [
    "from sklearn.linear_model import LogisticRegression\n",
    "lg = LogisticRegression(random_state=0, max_iter=10000)\n",
    "lg.fit(X_train, train[\"CATEGORY\"])"
   ]
  },
  {
   "cell_type": "code",
   "execution_count": 6,
   "metadata": {},
   "outputs": [],
   "source": [
    "import numpy as np\n",
    "def score_lg(lg, X):\n",
    "    return [np.max(lg.predict_proba(X), axis=1), lg.predict(X)]"
   ]
  },
  {
   "cell_type": "code",
   "execution_count": 7,
   "metadata": {},
   "outputs": [
    {
     "name": "stdout",
     "output_type": "stream",
     "text": [
      "[array([0.39095806, 0.95758832, 0.96204618, ..., 0.88318381, 0.83899073,\n",
      "       0.8224719 ]), array(['t', 'e', 'b', ..., 'e', 'b', 'e'], dtype=object)]\n"
     ]
    }
   ],
   "source": [
    "train_pred = score_lg(lg, X_train)\n",
    "test_pred = score_lg(lg, X_test)\n",
    "print(train_pred)"
   ]
  },
  {
   "cell_type": "code",
   "execution_count": 8,
   "metadata": {},
   "outputs": [
    {
     "name": "stdout",
     "output_type": "stream",
     "text": [
      "正解率(学習データ):0.928\n",
      "正解率(テストデータ):0.884\n"
     ]
    }
   ],
   "source": [
    "from sklearn.metrics import accuracy_score\n",
    "\n",
    "train_accuracy = accuracy_score(train[\"CATEGORY\"], train_pred[1])\n",
    "test_accuracy = accuracy_score(test[\"CATEGORY\"], test_pred[1])\n",
    "print(f'正解率(学習データ):{train_accuracy:.3f}')\n",
    "print(f'正解率(テストデータ):{test_accuracy:.3f}')"
   ]
  },
  {
   "cell_type": "code",
   "execution_count": 9,
   "metadata": {},
   "outputs": [
    {
     "name": "stdout",
     "output_type": "stream",
     "text": [
      "[[4355   91    9   46]\n",
      " [  49 4173    3   10]\n",
      " [  93  130  490   15]\n",
      " [ 189  132    7  892]]\n"
     ]
    },
    {
     "data": {
      "image/png": "[encoded data removed]",
      "text/plain": [
       "<Figure size 432x288 with 2 Axes>"
      ]
     },
     "metadata": {
      "needs_background": "light"
     },
     "output_type": "display_data"
    }
   ],
   "source": [
    "from sklearn.metrics import confusion_matrix\n",
    "import seaborn as sns\n",
    "import matplotlib.pyplot as plt\n",
    "%matplotlib inline\n",
    "\n",
    "train_cm = confusion_matrix(train[\"CATEGORY\"], train_pred[1])\n",
    "print(train_cm)\n",
    "sns.heatmap(train_cm, annot=True, cmap=\"Blues\", fmt=\".4g\")\n",
    "plt.show()"
   ]
  },
  {
   "cell_type": "code",
   "execution_count": 10,
   "metadata": {},
   "outputs": [
    {
     "name": "stdout",
     "output_type": "stream",
     "text": [
      "[[525  24   1  13]\n",
      " [ 12 513   2   3]\n",
      " [ 13  28  45   5]\n",
      " [ 26  25   3  98]]\n"
     ]
    },
    {
     "data": {
      "image/png": "[encoded data removed]",
      "text/plain": [
       "<Figure size 432x288 with 2 Axes>"
      ]
     },
     "metadata": {
      "needs_background": "light"
     },
     "output_type": "display_data"
    }
   ],
   "source": [
    "test_cm = confusion_matrix(test[\"CATEGORY\"], test_pred[1])\n",
    "print(test_cm)\n",
    "sns.heatmap(test_cm, annot=True, fmt=\".4g\", cmap=\"Blues\")\n",
    "plt.show()"
   ]
  },
  {
   "cell_type": "code",
   "execution_count": 11,
   "metadata": {},
   "outputs": [],
   "source": [
    "from sklearn.metrics import precision_score, recall_score, f1_score\n",
    "\n",
    "def calculate_score(y_true, y_pred):\n",
    "    precision = precision_score(test[\"CATEGORY\"], test_pred[1],\n",
    "                                average=None, labels=[\"b\", \"e\", \"t\", \"m\"])\n",
    "    precision = np.append(precision, precision_score(y_true, y_pred, average=\"micro\"))\n",
    "    precision = np.append(precision, precision_score(y_true, y_pred, average=\"macro\"))\n",
    "    \n",
    "    \n",
    "    recall = recall_score(test[\"CATEGORY\"], test_pred[1], \n",
    "                         average=None, labels=[\"b\", \"e\", \"t\", \"m\"])\n",
    "    recall = np.append(recall, recall_score(y_true, y_pred, average=\"micro\"))\n",
    "    recall = np.append(recall, recall_score(y_true, y_pred, average=\"macro\"))    \n",
    "    \n",
    "    f1 = f1_score(test[\"CATEGORY\"], test_pred[1], \n",
    "                         average=None, labels=[\"b\", \"e\", \"t\", \"m\"])\n",
    "    f1 = np.append(f1, f1_score(y_true, y_pred, average=\"micro\"))\n",
    "    f1 = np.append(f1, f1_score(y_true, y_pred, average=\"macro\"))    \n",
    "\n",
    "    scores = pd.DataFrame({\"適合率\":precision, \"再現率\":recall, \"f１スコア\":f1},\n",
    "                         index=[\"b\", \"e\", \"t\", \"m\", \"マイクロ平均\", \"マクロ平均\"])\n",
    "    \n",
    "    return scores"
   ]
  },
  {
   "cell_type": "code",
   "execution_count": 12,
   "metadata": {},
   "outputs": [
    {
     "name": "stdout",
     "output_type": "stream",
     "text": [
      "             適合率       再現率     f１スコア\n",
      "b       0.911458  0.932504  0.921861\n",
      "e       0.869492  0.967925  0.916071\n",
      "t       0.823529  0.644737  0.723247\n",
      "m       0.882353  0.494505  0.633803\n",
      "マイクロ平均  0.883982  0.883982  0.883982\n",
      "マクロ平均   0.871708  0.759918  0.798746\n"
     ]
    }
   ],
   "source": [
    "print(calculate_score(test[\"CATEGORY\"], test_pred[1]))"
   ]
  },
  {
   "cell_type": "code",
   "execution_count": 13,
   "metadata": {},
   "outputs": [
    {
     "name": "stdout",
     "output_type": "stream",
     "text": [
      "【カテゴリ】b\n"
     ]
    },
    {
     "data": {
      "text/html": [
       "<div>\n",
       "<style scoped>\n",
       "    .dataframe tbody tr th:only-of-type {\n",
       "        vertical-align: middle;\n",
       "    }\n",
       "\n",
       "    .dataframe tbody tr th {\n",
       "        vertical-align: top;\n",
       "    }\n",
       "\n",
       "    .dataframe thead th {\n",
       "        text-align: right;\n",
       "    }\n",
       "</style>\n",
       "<table border=\"1\" class=\"dataframe\">\n",
       "  <thead>\n",
       "    <tr style=\"text-align: right;\">\n",
       "      <th></th>\n",
       "      <th>1</th>\n",
       "      <th>2</th>\n",
       "      <th>3</th>\n",
       "      <th>4</th>\n",
       "      <th>5</th>\n",
       "      <th>6</th>\n",
       "      <th>7</th>\n",
       "      <th>8</th>\n",
       "      <th>9</th>\n",
       "      <th>10</th>\n",
       "    </tr>\n",
       "  </thead>\n",
       "  <tbody>\n",
       "    <tr>\n",
       "      <th>重要度上位</th>\n",
       "      <td>fed</td>\n",
       "      <td>bank</td>\n",
       "      <td>china</td>\n",
       "      <td>ecb</td>\n",
       "      <td>stocks</td>\n",
       "      <td>euro</td>\n",
       "      <td>ukraine</td>\n",
       "      <td>yellen</td>\n",
       "      <td>oil</td>\n",
       "      <td>obamacare</td>\n",
       "    </tr>\n",
       "    <tr>\n",
       "      <th>重要度下位</th>\n",
       "      <td>and</td>\n",
       "      <td>video</td>\n",
       "      <td>ebola</td>\n",
       "      <td>her</td>\n",
       "      <td>aereo</td>\n",
       "      <td>the</td>\n",
       "      <td>microsoft</td>\n",
       "      <td>she</td>\n",
       "      <td>study</td>\n",
       "      <td>this</td>\n",
       "    </tr>\n",
       "  </tbody>\n",
       "</table>\n",
       "</div>"
      ],
      "text/plain": [
       "        1      2      3    4       5     6          7       8      9   \\\n",
       "重要度上位  fed   bank  china  ecb  stocks  euro    ukraine  yellen    oil   \n",
       "重要度下位  and  video  ebola  her   aereo   the  microsoft     she  study   \n",
       "\n",
       "              10  \n",
       "重要度上位  obamacare  \n",
       "重要度下位       this  "
      ]
     },
     "metadata": {},
     "output_type": "display_data"
    },
    {
     "name": "stdout",
     "output_type": "stream",
     "text": [
      "\n",
      "\n",
      "【カテゴリ】e\n"
     ]
    },
    {
     "data": {
      "text/html": [
       "<div>\n",
       "<style scoped>\n",
       "    .dataframe tbody tr th:only-of-type {\n",
       "        vertical-align: middle;\n",
       "    }\n",
       "\n",
       "    .dataframe tbody tr th {\n",
       "        vertical-align: top;\n",
       "    }\n",
       "\n",
       "    .dataframe thead th {\n",
       "        text-align: right;\n",
       "    }\n",
       "</style>\n",
       "<table border=\"1\" class=\"dataframe\">\n",
       "  <thead>\n",
       "    <tr style=\"text-align: right;\">\n",
       "      <th></th>\n",
       "      <th>1</th>\n",
       "      <th>2</th>\n",
       "      <th>3</th>\n",
       "      <th>4</th>\n",
       "      <th>5</th>\n",
       "      <th>6</th>\n",
       "      <th>7</th>\n",
       "      <th>8</th>\n",
       "      <th>9</th>\n",
       "      <th>10</th>\n",
       "    </tr>\n",
       "  </thead>\n",
       "  <tbody>\n",
       "    <tr>\n",
       "      <th>重要度上位</th>\n",
       "      <td>kardashian</td>\n",
       "      <td>chris</td>\n",
       "      <td>her</td>\n",
       "      <td>she</td>\n",
       "      <td>movie</td>\n",
       "      <td>film</td>\n",
       "      <td>wedding</td>\n",
       "      <td>he</td>\n",
       "      <td>paul</td>\n",
       "      <td>jay</td>\n",
       "    </tr>\n",
       "    <tr>\n",
       "      <th>重要度下位</th>\n",
       "      <td>update</td>\n",
       "      <td>us</td>\n",
       "      <td>google</td>\n",
       "      <td>china</td>\n",
       "      <td>gm</td>\n",
       "      <td>apple</td>\n",
       "      <td>study</td>\n",
       "      <td>ceo</td>\n",
       "      <td>facebook</td>\n",
       "      <td>billion</td>\n",
       "    </tr>\n",
       "  </tbody>\n",
       "</table>\n",
       "</div>"
      ],
      "text/plain": [
       "               1      2       3      4      5      6        7    8         9   \\\n",
       "重要度上位  kardashian  chris     her    she  movie   film  wedding   he      paul   \n",
       "重要度下位      update     us  google  china     gm  apple    study  ceo  facebook   \n",
       "\n",
       "            10  \n",
       "重要度上位      jay  \n",
       "重要度下位  billion  "
      ]
     },
     "metadata": {},
     "output_type": "display_data"
    },
    {
     "name": "stdout",
     "output_type": "stream",
     "text": [
      "\n",
      "\n",
      "【カテゴリ】m\n"
     ]
    },
    {
     "data": {
      "text/html": [
       "<div>\n",
       "<style scoped>\n",
       "    .dataframe tbody tr th:only-of-type {\n",
       "        vertical-align: middle;\n",
       "    }\n",
       "\n",
       "    .dataframe tbody tr th {\n",
       "        vertical-align: top;\n",
       "    }\n",
       "\n",
       "    .dataframe thead th {\n",
       "        text-align: right;\n",
       "    }\n",
       "</style>\n",
       "<table border=\"1\" class=\"dataframe\">\n",
       "  <thead>\n",
       "    <tr style=\"text-align: right;\">\n",
       "      <th></th>\n",
       "      <th>1</th>\n",
       "      <th>2</th>\n",
       "      <th>3</th>\n",
       "      <th>4</th>\n",
       "      <th>5</th>\n",
       "      <th>6</th>\n",
       "      <th>7</th>\n",
       "      <th>8</th>\n",
       "      <th>9</th>\n",
       "      <th>10</th>\n",
       "    </tr>\n",
       "  </thead>\n",
       "  <tbody>\n",
       "    <tr>\n",
       "      <th>重要度上位</th>\n",
       "      <td>ebola</td>\n",
       "      <td>study</td>\n",
       "      <td>fda</td>\n",
       "      <td>cancer</td>\n",
       "      <td>mers</td>\n",
       "      <td>drug</td>\n",
       "      <td>cases</td>\n",
       "      <td>cdc</td>\n",
       "      <td>health</td>\n",
       "      <td>could</td>\n",
       "    </tr>\n",
       "    <tr>\n",
       "      <th>重要度下位</th>\n",
       "      <td>facebook</td>\n",
       "      <td>gm</td>\n",
       "      <td>apple</td>\n",
       "      <td>climate</td>\n",
       "      <td>ceo</td>\n",
       "      <td>sales</td>\n",
       "      <td>google</td>\n",
       "      <td>deal</td>\n",
       "      <td>cars</td>\n",
       "      <td>amazon</td>\n",
       "    </tr>\n",
       "  </tbody>\n",
       "</table>\n",
       "</div>"
      ],
      "text/plain": [
       "             1      2      3        4     5      6       7     8       9   \\\n",
       "重要度上位     ebola  study    fda   cancer  mers   drug   cases   cdc  health   \n",
       "重要度下位  facebook     gm  apple  climate   ceo  sales  google  deal    cars   \n",
       "\n",
       "           10  \n",
       "重要度上位   could  \n",
       "重要度下位  amazon  "
      ]
     },
     "metadata": {},
     "output_type": "display_data"
    },
    {
     "name": "stdout",
     "output_type": "stream",
     "text": [
      "\n",
      "\n",
      "【カテゴリ】t\n"
     ]
    },
    {
     "data": {
      "text/html": [
       "<div>\n",
       "<style scoped>\n",
       "    .dataframe tbody tr th:only-of-type {\n",
       "        vertical-align: middle;\n",
       "    }\n",
       "\n",
       "    .dataframe tbody tr th {\n",
       "        vertical-align: top;\n",
       "    }\n",
       "\n",
       "    .dataframe thead th {\n",
       "        text-align: right;\n",
       "    }\n",
       "</style>\n",
       "<table border=\"1\" class=\"dataframe\">\n",
       "  <thead>\n",
       "    <tr style=\"text-align: right;\">\n",
       "      <th></th>\n",
       "      <th>1</th>\n",
       "      <th>2</th>\n",
       "      <th>3</th>\n",
       "      <th>4</th>\n",
       "      <th>5</th>\n",
       "      <th>6</th>\n",
       "      <th>7</th>\n",
       "      <th>8</th>\n",
       "      <th>9</th>\n",
       "      <th>10</th>\n",
       "    </tr>\n",
       "  </thead>\n",
       "  <tbody>\n",
       "    <tr>\n",
       "      <th>重要度上位</th>\n",
       "      <td>google</td>\n",
       "      <td>facebook</td>\n",
       "      <td>apple</td>\n",
       "      <td>microsoft</td>\n",
       "      <td>climate</td>\n",
       "      <td>gm</td>\n",
       "      <td>nasa</td>\n",
       "      <td>heartbleed</td>\n",
       "      <td>tesla</td>\n",
       "      <td>mobile</td>\n",
       "    </tr>\n",
       "    <tr>\n",
       "      <th>重要度下位</th>\n",
       "      <td>stocks</td>\n",
       "      <td>fed</td>\n",
       "      <td>shares</td>\n",
       "      <td>cancer</td>\n",
       "      <td>her</td>\n",
       "      <td>ukraine</td>\n",
       "      <td>his</td>\n",
       "      <td>percent</td>\n",
       "      <td>ecb</td>\n",
       "      <td>american</td>\n",
       "    </tr>\n",
       "  </tbody>\n",
       "</table>\n",
       "</div>"
      ],
      "text/plain": [
       "           1         2       3          4        5        6     7   \\\n",
       "重要度上位  google  facebook   apple  microsoft  climate       gm  nasa   \n",
       "重要度下位  stocks       fed  shares     cancer      her  ukraine   his   \n",
       "\n",
       "               8      9         10  \n",
       "重要度上位  heartbleed  tesla    mobile  \n",
       "重要度下位     percent    ecb  american  "
      ]
     },
     "metadata": {},
     "output_type": "display_data"
    },
    {
     "name": "stdout",
     "output_type": "stream",
     "text": [
      "\n",
      "\n"
     ]
    }
   ],
   "source": [
    "features = X_train.columns.values\n",
    "index = [i for i in range(1, 11)]\n",
    "for c, coef in zip(lg.classes_, lg.coef_):\n",
    "    \n",
    "    print(f'【カテゴリ】{c}')\n",
    "    best10 = pd.DataFrame(features[np.argsort(coef)[::-1][:10]], columns=['重要度上位'], index=index).T\n",
    "    worst10 = pd.DataFrame(features[np.argsort(coef)[:10]], columns=['重要度下位'], index=index).T\n",
    "    display(pd.concat([best10, worst10], axis=0))\n",
    "    print('\\n')"
   ]
  },
  {
   "cell_type": "code",
   "execution_count": 14,
   "metadata": {},
   "outputs": [
    {
     "name": "stderr",
     "output_type": "stream",
     "text": [
      "100%|██████████| 10/10 [04:00<00:00, 24.02s/it]\n"
     ]
    }
   ],
   "source": [
    "from tqdm import tqdm\n",
    "result = []\n",
    "for C in tqdm(np.logspace(-5, 4, 10, base=10)):\n",
    "    lg = LogisticRegression(random_state=0, max_iter=10000, C=C)\n",
    "    lg.fit(X_train, train[\"CATEGORY\"])\n",
    "    \n",
    "    train_pred = score_lg(lg, X_train)\n",
    "    valid_pred = score_lg(lg, X_valid)\n",
    "    test_pred = score_lg(lg, X_test)\n",
    "    \n",
    "    train_accuracy = accuracy_score(train[\"CATEGORY\"], train_pred[1])\n",
    "    valid_accuracy = accuracy_score(valid[\"CATEGORY\"], valid_pred[1])    \n",
    "    test_accuracy = accuracy_score(test[\"CATEGORY\"], test_pred[1])    \n",
    "    \n",
    "    result.append([C, train_accuracy, valid_accuracy, test_accuracy])"
   ]
  },
  {
   "cell_type": "code",
   "execution_count": 15,
   "metadata": {},
   "outputs": [
    {
     "data": {
      "image/png": "[encoded data removed]",
      "text/plain": [
       "<Figure size 432x288 with 1 Axes>"
      ]
     },
     "metadata": {
      "needs_background": "light"
     },
     "output_type": "display_data"
    }
   ],
   "source": [
    "result = np.array(result).T\n",
    "plt.plot(result[0], result[1], label=\"train\")\n",
    "plt.plot(result[0], result[2], label=\"valid\")\n",
    "plt.plot(result[0], result[3], label=\"test\")\n",
    "plt.ylim(0, 1.1)\n",
    "plt.ylabel(\"Accuracy\")\n",
    "plt.xscale(\"log\")\n",
    "plt.xlabel(\"C\")\n",
    "plt.legend()\n",
    "plt.show()"
   ]
  },
  {
   "cell_type": "code",
   "execution_count": 16,
   "metadata": {},
   "outputs": [],
   "source": [
    "import optuna\n",
    "\n",
    "def objective_lg(trial):\n",
    "    l1_ratio = trial.suggest_uniform(\"l1_ratio\", 0, 1)\n",
    "    C = trial.suggest_loguniform(\"C\", 1e-4, 1e4)\n",
    "    lg = LogisticRegression(random_state=0,\n",
    "                           max_iter=1000,\n",
    "                           penalty=\"elasticnet\",\n",
    "                           solver=\"saga\",\n",
    "                           l1_ratio = l1_ratio,\n",
    "                           C=C)\n",
    "    lg.fit(X_train, train[\"CATEGORY\"])\n",
    "    \n",
    "    valid_pred = score_lg(lg, X_valid)\n",
    "    valid_accuracy = accuracy_score(valid[\"CATEGORY\"], valid_pred[1])\n",
    "    return valid_accuracy"
   ]
  },
  {
   "cell_type": "code",
   "execution_count": null,
   "metadata": {},
   "outputs": [
    {
     "name": "stderr",
     "output_type": "stream",
     "text": [
      "\u001b[32m[I 2021-01-29 01:38:51,209]\u001b[0m A new study created in memory with name: no-name-559f5e4a-c367-4d02-ade6-64d21ac56442\u001b[0m\n",
      "\u001b[32m[I 2021-01-29 01:39:12,742]\u001b[0m Trial 0 finished with value: 0.5276946107784432 and parameters: {'l1_ratio': 0.9158386123107798, 'C': 0.022686887114026312}. Best is trial 0 with value: 0.5276946107784432.\u001b[0m\n"
     ]
    }
   ],
   "source": [
    "study = optuna.create_study(direction=\"maximize\")\n",
    "study.optimize(objective_lg, timeout=300)\n",
    "\n",
    "print(\"Best Trial:\")\n",
    "trial = study.best_trial\n",
    "print(\"Value:{:.3f}\".format(trial.value))\n",
    "print(\"Param\")\n",
    "for key, value in trial.params.item():\n",
    "    print(\"{}:{}\".format(key, value))"
   ]
  },
  {
   "cell_type": "code",
   "execution_count": null,
   "metadata": {},
   "outputs": [],
   "source": []
  }
 ],
 "metadata": {
  "kernelspec": {
   "display_name": "Python 3",
   "language": "python",
   "name": "python3"
  },
  "language_info": {
   "codemirror_mode": {
    "name": "ipython",
    "version": 3
   },
   "file_extension": ".py",
   "mimetype": "text/x-python",
   "name": "python",
   "nbconvert_exporter": "python",
   "pygments_lexer": "ipython3",
   "version": "3.7.6"
  }
 },
 "nbformat": 4,
 "nbformat_minor": 4
}
