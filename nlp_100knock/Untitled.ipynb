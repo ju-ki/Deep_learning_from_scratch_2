{
 "cells": [
  {
   "cell_type": "markdown",
   "metadata": {},
   "source": [
    "## 自然言語処理100本ノック"
   ]
  },
  {
   "cell_type": "code",
   "execution_count": 1,
   "metadata": {},
   "outputs": [
    {
     "name": "stdout",
     "output_type": "stream",
     "text": [
      "desserts\n"
     ]
    }
   ],
   "source": [
    "#0\n",
    "text = \"stressed\"\n",
    "print(text[::-1])"
   ]
  },
  {
   "cell_type": "code",
   "execution_count": 2,
   "metadata": {},
   "outputs": [
    {
     "name": "stdout",
     "output_type": "stream",
     "text": [
      "パトカー\n"
     ]
    }
   ],
   "source": [
    "#01\n",
    "text = \"パタトクカシーー\"\n",
    "print(text[::2])"
   ]
  },
  {
   "cell_type": "code",
   "execution_count": 3,
   "metadata": {},
   "outputs": [
    {
     "name": "stdout",
     "output_type": "stream",
     "text": [
      "パタトクカシーー\n"
     ]
    }
   ],
   "source": [
    "text1 = \"パトカー\"\n",
    "text2 = \"タクシー\"\n",
    "\n",
    "text = ''.join([i + j for i, j in zip(text1, text2)])\n",
    "print(text)"
   ]
  },
  {
   "cell_type": "code",
   "execution_count": 4,
   "metadata": {},
   "outputs": [
    {
     "name": "stdout",
     "output_type": "stream",
     "text": [
      "[3, 1, 4, 1, 5, 9, 2, 6, 5, 3, 5, 8, 9, 7, 9]\n"
     ]
    }
   ],
   "source": [
    "import re\n",
    "text = \"Now I need a drink, alcoholic of course, after the heavy lectures involving quantum mechanics.\"\n",
    "text = re.sub('[,\\.]', \"\", text)\n",
    "text = text.split()\n",
    "i = 0\n",
    "tmp = []\n",
    "for i in range(len(text)):\n",
    "    num = len(text[i])\n",
    "    tmp.append(num)\n",
    "print(tmp)"
   ]
  },
  {
   "cell_type": "code",
   "execution_count": 5,
   "metadata": {},
   "outputs": [
    {
     "name": "stdout",
     "output_type": "stream",
     "text": [
      "{'H': 1, 'He': 2, 'Li': 3, 'Be': 4, 'B': 5, 'C': 6, 'N': 7, 'O': 8, 'F': 9, 'Ne': 10, 'Na': 11, 'Mi': 12, 'Al': 13, 'Si': 14, 'P': 15, 'S': 16, 'Cl': 17, 'Ar': 18, 'K': 19, 'Ca': 20}\n"
     ]
    }
   ],
   "source": [
    "text = \"Hi He Lied Because Boron Could Not Oxidize Fluorine. New Nations Might Also Sign Peace Security Clause. Arthur King Can.\"\n",
    "text = re.sub('[,\\.]', \"\", text)\n",
    "text = text.split()\n",
    "one_num = [1 ,5, 6, 7, 8, 9, 15, 16, 19]\n",
    "ans = {}\n",
    "\n",
    "for i, word in enumerate(text):\n",
    "    if i+1 in one_num:\n",
    "        ans[word[:1]] = i + 1\n",
    "    else:\n",
    "        ans[word[:2]] = i + 1\n",
    "        \n",
    "print(ans)"
   ]
  },
  {
   "cell_type": "code",
   "execution_count": 6,
   "metadata": {},
   "outputs": [
    {
     "name": "stdout",
     "output_type": "stream",
     "text": [
      "[('I', 'am'), ('am', 'a'), ('a', 'NLPer')]\n",
      "[('I', ' '), (' ', 'a'), ('a', 'm'), ('m', ' '), (' ', 'a'), ('a', ' '), (' ', 'N'), ('N', 'L'), ('L', 'P'), ('P', 'e'), ('e', 'r')]\n"
     ]
    }
   ],
   "source": [
    "text = \"I am a NLPer\"\n",
    "\n",
    "def n_gram(text, n_gram):\n",
    "    return list(zip(*[text[i:] for i in range(n_gram)]))\n",
    "\n",
    "words_bi_gram = n_gram(text.split(), 2)\n",
    "chars_bi_gram = n_gram(text, 2)\n",
    "\n",
    "print(words_bi_gram)\n",
    "print(chars_bi_gram)"
   ]
  },
  {
   "cell_type": "code",
   "execution_count": 7,
   "metadata": {},
   "outputs": [
    {
     "name": "stdout",
     "output_type": "stream",
     "text": [
      "{('a', 'g'), ('a', 'r'), ('a', 'p'), ('g', 'r'), ('i', 's'), ('p', 'a'), ('s', 'e'), ('a', 'd'), ('r', 'a'), ('p', 'h'), ('d', 'i')}\n",
      "{('r', 'a'), ('a', 'p'), ('a', 'r'), ('p', 'a')}\n",
      "{('s', 'e'), ('i', 's'), ('d', 'i'), ('a', 'd')}\n",
      "True\n",
      "False\n"
     ]
    }
   ],
   "source": [
    "text1 = \"paraparaparadise\"\n",
    "text2 = \"paragraph\"\n",
    "X = set(n_gram(text1, 2))\n",
    "Y = set(n_gram(text2, 2))\n",
    "\n",
    "union = X | Y\n",
    "intersection = X & Y\n",
    "difference = X - Y\n",
    "print(union)\n",
    "print(intersection)\n",
    "print(difference)\n",
    "print({(\"s\", \"e\")} <= X)\n",
    "print({(\"s\", \"e\")} <= Y)"
   ]
  },
  {
   "cell_type": "code",
   "execution_count": 8,
   "metadata": {},
   "outputs": [
    {
     "name": "stdout",
     "output_type": "stream",
     "text": [
      "12時の気温は22.4\n"
     ]
    }
   ],
   "source": [
    "def temp_text(time, temp, temp_num):\n",
    "    return str(time) + \"時の\" + temp + \"は\"+ str(temp_num)\n",
    "\n",
    "x = 12\n",
    "y = \"気温\"\n",
    "z = 22.4\n",
    "print(temp_text(x, y, z))"
   ]
  },
  {
   "cell_type": "code",
   "execution_count": 9,
   "metadata": {},
   "outputs": [
    {
     "name": "stdout",
     "output_type": "stream",
     "text": [
      "暗号化: gsv jfrxp yildm ulc qfnkh levi gsv ozab wlt\n",
      "復号化: the quick brown fox jumps over the lazy dog\n"
     ]
    }
   ],
   "source": [
    "def cipher(str):\n",
    "    rep = [chr(219 - ord(x)) if x.islower() else x for x in str]\n",
    "\n",
    "    return ''.join(rep)\n",
    "\n",
    "message = 'the quick brown fox jumps over the lazy dog'\n",
    "message = cipher(message)\n",
    "print('暗号化:', message)\n",
    "message = cipher(message)\n",
    "print('復号化:', message)"
   ]
  },
  {
   "cell_type": "code",
   "execution_count": 10,
   "metadata": {},
   "outputs": [
    {
     "name": "stdout",
     "output_type": "stream",
     "text": [
      "c’odlunt bvleiee culod alcualty utnedsrnad riednag paoehmennl pewor huamn\n"
     ]
    }
   ],
   "source": [
    "import random\n",
    "def shuffle_text(words):\n",
    "    result = []\n",
    "    for word in words.split():\n",
    "        if len(word) > 4:\n",
    "            word = word[:1] + \"\".join(random.sample(word[1:-1], len(word) - 2)) + word[-1:]\n",
    "            \n",
    "            result.append(word)\n",
    "            \n",
    "    return \" \".join(result)\n",
    "\n",
    "text = \"I couldn’t believe that I could actually understand what I was reading : the phenomenal power of the human mind .\"\n",
    "text = shuffle_text(text)\n",
    "print(text)"
   ]
  },
  {
   "cell_type": "code",
   "execution_count": 11,
   "metadata": {},
   "outputs": [
    {
     "name": "stdout",
     "output_type": "stream",
     "text": [
      "2780\n"
     ]
    }
   ],
   "source": [
    "import pandas as pd\n",
    "\n",
    "df = pd.read_table('./popular-names.txt', header=None, sep='\\t', names=['name', 'sex', 'number', 'year'])\n",
    "print(len(df))"
   ]
  },
  {
   "cell_type": "code",
   "execution_count": 12,
   "metadata": {},
   "outputs": [
    {
     "name": "stdout",
     "output_type": "stream",
     "text": [
      "0         Mary\n",
      "1         Anna\n",
      "2         Emma\n",
      "3    Elizabeth\n",
      "4       Minnie\n",
      "Name: name, dtype: object\n"
     ]
    }
   ],
   "source": [
    "col1 = df[\"name\"]\n",
    "col1.to_csv(\"./col1.txt\", index=False)\n",
    "print(col1.head())"
   ]
  },
  {
   "cell_type": "code",
   "execution_count": 13,
   "metadata": {},
   "outputs": [
    {
     "name": "stdout",
     "output_type": "stream",
     "text": [
      "0    F\n",
      "1    F\n",
      "2    F\n",
      "3    F\n",
      "4    F\n",
      "Name: sex, dtype: object\n"
     ]
    }
   ],
   "source": [
    "col2 = df[\"sex\"]\n",
    "col2.to_csv(\"./col2.txt\", index=False)\n",
    "print(col2.head())"
   ]
  },
  {
   "cell_type": "code",
   "execution_count": 14,
   "metadata": {},
   "outputs": [
    {
     "name": "stdout",
     "output_type": "stream",
     "text": [
      "        name sex\n",
      "0       Mary   F\n",
      "1       Anna   F\n",
      "2       Emma   F\n",
      "3  Elizabeth   F\n",
      "4     Minnie   F\n"
     ]
    }
   ],
   "source": [
    "col1 = pd.read_table(\"col1.txt\")\n",
    "col2 = pd.read_table(\"col2.txt\")\n",
    "merged_1_2 = pd.concat([col1, col2], axis=1)\n",
    "merged_1_2.to_csv(\"./merged_1_2.txt\", sep='\\t', index=False)\n",
    "print(merged_1_2.head())"
   ]
  },
  {
   "cell_type": "code",
   "execution_count": 15,
   "metadata": {},
   "outputs": [],
   "source": [
    "def head_or_tail(number, head_is=True):\n",
    "    if head_is:\n",
    "        print(df.head(number))\n",
    "    else:\n",
    "        print(df.tail(number))"
   ]
  },
  {
   "cell_type": "code",
   "execution_count": 16,
   "metadata": {},
   "outputs": [
    {
     "name": "stdout",
     "output_type": "stream",
     "text": [
      "        name sex  number  year\n",
      "0       Mary   F    7065  1880\n",
      "1       Anna   F    2604  1880\n",
      "2       Emma   F    2003  1880\n",
      "3  Elizabeth   F    1939  1880\n",
      "4     Minnie   F    1746  1880\n",
      "          name sex  number  year\n",
      "2775  Benjamin   M   13381  2018\n",
      "2776    Elijah   M   12886  2018\n",
      "2777     Lucas   M   12585  2018\n",
      "2778     Mason   M   12435  2018\n",
      "2779     Logan   M   12352  2018\n"
     ]
    }
   ],
   "source": [
    "head_or_tail(5)\n",
    "head_or_tail(5, False)"
   ]
  },
  {
   "cell_type": "code",
   "execution_count": 17,
   "metadata": {},
   "outputs": [
    {
     "name": "stdout",
     "output_type": "stream",
     "text": [
      "9    278\n",
      "8    278\n",
      "7    278\n",
      "6    278\n",
      "5    278\n",
      "4    278\n",
      "3    278\n",
      "2    278\n",
      "1    278\n",
      "0    278\n",
      "Name: sp, dtype: int64\n"
     ]
    }
   ],
   "source": [
    "def split_file(N):\n",
    "    tmp = df.reset_index(drop=False)\n",
    "    df_cut = pd.qcut(tmp.index, N, labels=[i for i in range(N)])\n",
    "    df_cut = pd.concat([df, pd.Series(df_cut, name=\"sp\")], axis=1)\n",
    "    return df_cut\n",
    "\n",
    "df_cut = split_file(10)\n",
    "print(df_cut['sp'].value_counts())"
   ]
  },
  {
   "cell_type": "code",
   "execution_count": 18,
   "metadata": {},
   "outputs": [
    {
     "name": "stdout",
     "output_type": "stream",
     "text": [
      "136\n"
     ]
    }
   ],
   "source": [
    "print(len(df.drop_duplicates(subset=\"name\")))"
   ]
  },
  {
   "cell_type": "code",
   "execution_count": 19,
   "metadata": {},
   "outputs": [
    {
     "name": "stdout",
     "output_type": "stream",
     "text": [
      "         name sex  number  year\n",
      "1340    Linda   F   99689  1947\n",
      "1360    Linda   F   96211  1948\n",
      "1350    James   M   94757  1947\n",
      "1550  Michael   M   92704  1957\n",
      "1351   Robert   M   91640  1947\n"
     ]
    }
   ],
   "source": [
    "df.sort_values(by=\"number\", ascending=False, inplace=True)\n",
    "print(df.head())"
   ]
  },
  {
   "cell_type": "code",
   "execution_count": 20,
   "metadata": {},
   "outputs": [
    {
     "name": "stdout",
     "output_type": "stream",
     "text": [
      "James      118\n",
      "William    111\n",
      "Robert     108\n",
      "John       108\n",
      "Mary        92\n",
      "          ... \n",
      "Tracy        1\n",
      "Julie        1\n",
      "Laura        1\n",
      "Lucas        1\n",
      "Walter       1\n",
      "Name: name, Length: 136, dtype: int64\n"
     ]
    }
   ],
   "source": [
    "print(df[\"name\"].value_counts())"
   ]
  },
  {
   "cell_type": "code",
   "execution_count": 21,
   "metadata": {},
   "outputs": [
    {
     "name": "stdout",
     "output_type": "stream",
     "text": [
      "{{redirect\n"
     ]
    }
   ],
   "source": [
    "import json\n",
    "\n",
    "file_name = \"jawiki-country.json\"\n",
    "\n",
    "with open(file_name, mode=\"r\") as f:\n",
    "    for line in f:\n",
    "        line = json.loads(line)\n",
    "        if line[\"title\"] == \"イギリス\":\n",
    "            text_uk = line['text']\n",
    "            break\n",
    "            \n",
    "print(text_uk[:10])"
   ]
  },
  {
   "cell_type": "code",
   "execution_count": 22,
   "metadata": {},
   "outputs": [
    {
     "name": "stdout",
     "output_type": "stream",
     "text": [
      "[[Category:イギリス|*]]\n",
      "[[Category:イギリス連邦加盟国]]\n",
      "[[Category:英連邦王国|*]]\n",
      "[[Category:G8加盟国]]\n",
      "[[Category:欧州連合加盟国|元]]\n",
      "[[Category:海洋国家]]\n",
      "[[Category:現存する君主国]]\n",
      "[[Category:島国]]\n",
      "[[Category:1801年に成立した国家・領域]]\n"
     ]
    }
   ],
   "source": [
    "import re\n",
    "\n",
    "pattern = r'^(.*\\[\\[Category:.*\\]\\].*)$'\n",
    "result = '\\n'.join(re.findall(pattern, text_uk, re.MULTILINE))\n",
    "print(result)"
   ]
  },
  {
   "cell_type": "code",
   "execution_count": 23,
   "metadata": {},
   "outputs": [
    {
     "name": "stdout",
     "output_type": "stream",
     "text": [
      "イギリス\n",
      "イギリス連邦加盟国\n",
      "英連邦王国\n",
      "G8加盟国\n",
      "欧州連合加盟国\n",
      "海洋国家\n",
      "現存する君主国\n",
      "島国\n",
      "1801年に成立した国家・領域\n"
     ]
    }
   ],
   "source": [
    "pattern = r'^.*\\[\\[Category:(.*?)(?:\\|.*)?\\]\\].*$'\n",
    "result = '\\n'.join(re.findall(pattern,text_uk, re.MULTILINE))\n",
    "print(result)"
   ]
  },
  {
   "cell_type": "code",
   "execution_count": 24,
   "metadata": {},
   "outputs": [
    {
     "name": "stdout",
     "output_type": "stream",
     "text": [
      "国名:1\n",
      "歴史:1\n",
      "地理:1\n",
      "主要都市:2\n",
      "気候:2\n",
      "政治:1\n",
      "元首:2\n",
      "法:2\n",
      "内政:2\n",
      "地方行政区分:2\n",
      "外交・軍事:2\n",
      "経済:1\n",
      "鉱業:2\n",
      "農業:2\n",
      "貿易:2\n",
      "不動産:2\n",
      "エネルギー政策:2\n",
      "通貨:2\n",
      "企業:2\n",
      "通信:3\n",
      "交通:1\n",
      "道路:2\n",
      "鉄道:2\n",
      "海運:2\n",
      "航空:2\n",
      "科学技術:1\n",
      "国民:1\n",
      "言語:2\n",
      "宗教:2\n",
      "婚姻:2\n",
      "移住:2\n",
      "教育:2\n",
      "医療:2\n",
      "文化:1\n",
      "食文化:2\n",
      "文学:2\n",
      "哲学:2\n",
      "音楽:2\n",
      "ポピュラー音楽:3\n",
      "映画:2\n",
      "コメディ:2\n",
      "国花:2\n",
      "世界遺産:2\n",
      "祝祭日:2\n",
      "スポーツ:2\n",
      "サッカー:3\n",
      "クリケット:3\n",
      "競馬:3\n",
      "モータースポーツ:3\n",
      "野球:3\n",
      "カーリング:3\n",
      "自転車競技:3\n",
      "脚注:1\n",
      "関連項目:1\n",
      "外部リンク:1\n"
     ]
    }
   ],
   "source": [
    "pattern = r'^(\\={2,})\\s*(.+?)\\s*(\\={2,}).*$'\n",
    "result = '\\n'.join(i[1] + \":\" + str(len(i[0]) - 1) for i in re.findall(pattern, text_uk, re.MULTILINE))\n",
    "print(result)"
   ]
  },
  {
   "cell_type": "code",
   "execution_count": 25,
   "metadata": {},
   "outputs": [
    {
     "name": "stdout",
     "output_type": "stream",
     "text": [
      "Royal Coat of Arms of the United Kingdom.svg\n",
      "Descriptio Prime Tabulae Europae.jpg\n",
      "Lenepveu, Jeanne d'Arc au siège d'Orléans.jpg\n",
      "London.bankofengland.arp.jpg\n",
      "Battle of Waterloo 1815.PNG\n",
      "Uk topo en.jpg\n",
      "BenNevis2005.jpg\n",
      "Population density UK 2011 census.png\n",
      "2019 Greenwich Peninsula & Canary Wharf.jpg\n",
      "Birmingham Skyline from Edgbaston Cricket Ground crop.jpg\n",
      "Leeds CBD at night.jpg\n",
      "Glasgow and the Clyde from the air (geograph 4665720).jpg\n",
      "Palace of Westminster, London - Feb 2007.jpg\n",
      "Scotland Parliament Holyrood.jpg\n",
      "Donald Trump and Theresa May (33998675310) (cropped).jpg\n",
      "Soldiers Trooping the Colour, 16th June 2007.jpg\n",
      "City of London skyline from London City Hall - Oct 2008.jpg\n",
      "Oil platform in the North SeaPros.jpg\n",
      "Eurostar at St Pancras Jan 2008.jpg\n",
      "Heathrow Terminal 5C Iwelumo-1.jpg\n",
      "Airbus A380-841 G-XLEB British Airways (10424102995).jpg\n",
      "UKpop.svg\n",
      "Anglospeak.svg\n",
      "Royal Aberdeen Children's Hospital.jpg\n",
      "CHANDOS3.jpg\n",
      "The Fabs.JPG\n",
      "Wembley Stadium, illuminated.jpg\n"
     ]
    }
   ],
   "source": [
    "pattern = r'\\[\\[ファイル:(.+?)\\|'\n",
    "result = \"\\n\".join(re.findall(pattern, text_uk))\n",
    "print(result)"
   ]
  },
  {
   "cell_type": "code",
   "execution_count": 26,
   "metadata": {},
   "outputs": [
    {
     "name": "stdout",
     "output_type": "stream",
     "text": [
      "['\\n|略名  =イギリス\\n|日本語国名 = グレートブリテン及び北アイルランド連合王国\\n|公式国名 = {{lang|en|United Kingdom of Great Britain and Northern Ireland}}<ref>英語以外での正式国名:<br />\\n*{{lang|gd|An Rìoghachd Aonaichte na Breatainn Mhòr agus Eirinn mu Thuath}}（[[スコットランド・ゲール語]]）\\n*{{lang|cy|Teyrnas Gyfunol Prydain Fawr a Gogledd Iwerddon}}（[[ウェールズ語]]）\\n*{{lang|ga|Ríocht Aontaithe na Breataine Móire agus Tuaisceart na hÉireann}}（[[アイルランド語]]）\\n*{{lang|kw|An Rywvaneth Unys a Vreten Veur hag Iwerdhon Glédh}}（[[コーンウォール語]]）\\n*{{lang|sco|Unitit Kinrick o Great Breetain an Northren Ireland}}（[[スコットランド語]]）\\n**{{lang|sco|Claught Kängrick o Docht Brätain an Norlin Airlann}}、{{lang|sco|Unitet Kängdom o Great Brittain an Norlin Airlann}}（アルスター・スコットランド語）</ref>\\n|国旗画像 = Flag of the United Kingdom.svg\\n|国章画像 = [[ファイル:Royal Coat of Arms of the United Kingdom.svg|85px|イギリスの国章]]\\n|国章リンク =（[[イギリスの国章|国章]]）\\n|標語 = {{lang|fr|[[Dieu et mon droit]]}}<br />（[[フランス語]]:[[Dieu et mon droit|神と我が権利]]）\\n|国歌 = [[女王陛下万歳|{{lang|en|God Save the Queen}}]]{{en icon}}<br />\\'\\'神よ女王を護り賜え\\'\\'<br />{{center|[[ファイル:United States Navy Band - God Save the Queen.ogg]]}}\\n|地図画像 = Europe-UK.svg\\n|位置画像 = United Kingdom (+overseas territories) in the World (+Antarctica claims).svg\\n|公用語 = [[英語]]\\n|首都 = [[ロンドン]]（事実上）\\n|最大都市 = ロンドン\\n|元首等肩書 = [[イギリスの君主|女王]]\\n|元首等氏名 = [[エリザベス2世]]\\n|首相等肩書 = [[イギリスの首相|首相]]\\n|首相等氏名 = [[ボリス・ジョンソン]]\\n|他元首等肩書1 = [[貴族院 (イギリス)|貴族院議長]]\\n|他元首等氏名1 = [[:en:Norman Fowler, Baron Fowler|ノーマン・ファウラー]]\\n|他元首等肩書2 = [[庶民院 (イギリス)|庶民院議長]]\\n|他元首等氏名2 = {{仮リンク|リンゼイ・ホイル|en|Lindsay Hoyle}}\\n|他元首等肩書3 = [[連合王国最高裁判所|最高裁判所長官]]\\n|他元首等氏名3 = [[:en:Brenda Hale, Baroness Hale of Richmond|ブレンダ・ヘイル]]\\n|面積順位 = 76\\n|面積大きさ = 1 E11\\n|面積値 = 244,820\\n|水面積率 = 1.3%\\n|人口統計年 = 2018\\n|人口順位 = 22\\n|人口大きさ = 1 E7\\n|人口値 = 6643万5600<ref>{{Cite web|url=https://www.ons.gov.uk/peoplepopulationandcommunity/populationandmigration/populationestimates|title=Population estimates - Office for National Statistics|accessdate=2019-06-26|date=2019-06-26}}</ref>\\n|人口密度値 = 271\\n|GDP統計年元 = 2012\\n|GDP値元 = 1兆5478億<ref name=\"imf-statistics-gdp\">[http://www.imf.org/external/pubs/ft/weo/2012/02/weodata/weorept.aspx?pr.x=70&pr.y=13&sy=2010&ey=2012&scsm=1&ssd=1&sort=country&ds=.&br=1&c=112&s=NGDP%2CNGDPD%2CPPPGDP%2CPPPPC&grp=0&a=IMF>Data and Statistics>World Economic Outlook Databases>By Countrise>United Kingdom]</ref>\\n|GDP統計年MER = 2012\\n|GDP順位MER = 6\\n|GDP値MER = 2兆4337億<ref name=\"imf-statistics-gdp\" />\\n|GDP統計年 = 2012\\n|GDP順位 = 6\\n|GDP値 = 2兆3162億<ref name=\"imf-statistics-gdp\" />\\n|GDP/人 = 36,727<ref name=\"imf-statistics-gdp\" />\\n|建国形態 = 建国\\n|確立形態1 = [[イングランド王国]]／[[スコットランド王国]]<br />（両国とも[[合同法 (1707年)|1707年合同法]]まで）\\n|確立年月日1 = 927年／843年\\n|確立形態2 = [[グレートブリテン王国]]成立<br />（1707年合同法）\\n|確立年月日2 = 1707年{{0}}5月{{0}}1日\\n|確立形態3 = [[グレートブリテン及びアイルランド連合王国]]成立<br />（[[合同法 (1800年)|1800年合同法]]）\\n|確立年月日3 = 1801年{{0}}1月{{0}}1日\\n|確立形態4 = 現在の国号「\\'\\'\\'グレートブリテン及び北アイルランド連合王国\\'\\'\\'」に変更\\n|確立年月日4 = 1927年{{0}}4月12日\\n|通貨 = [[スターリング・ポンド|UKポンド]] (£)\\n|通貨コード = GBP\\n|時間帯 = ±0\\n|夏時間 = +1\\n|ISO 3166-1 = GB / GBR\\n|ccTLD = [[.uk]] / [[.gb]]<ref>使用は.ukに比べ圧倒的少数。</ref>\\n|国際電話番号 = 44\\n|注記 = <references/>\\n']\n",
      "略名:イギリス\n",
      "日本語国名:グレートブリテン及び北アイルランド連合王国\n",
      "公式国名:{{lang|en|United Kingdom of Great Britain and Northern Ireland}}<ref>英語以外での正式国名:<br />\n",
      "*{{lang|gd|An Rìoghachd Aonaichte na Breatainn Mhòr agus Eirinn mu Thuath}}（[[スコットランド・ゲール語]]）\n",
      "*{{lang|cy|Teyrnas Gyfunol Prydain Fawr a Gogledd Iwerddon}}（[[ウェールズ語]]）\n",
      "*{{lang|ga|Ríocht Aontaithe na Breataine Móire agus Tuaisceart na hÉireann}}（[[アイルランド語]]）\n",
      "*{{lang|kw|An Rywvaneth Unys a Vreten Veur hag Iwerdhon Glédh}}（[[コーンウォール語]]）\n",
      "*{{lang|sco|Unitit Kinrick o Great Breetain an Northren Ireland}}（[[スコットランド語]]）\n",
      "**{{lang|sco|Claught Kängrick o Docht Brätain an Norlin Airlann}}、{{lang|sco|Unitet Kängdom o Great Brittain an Norlin Airlann}}（アルスター・スコットランド語）</ref>\n",
      "国旗画像:Flag of the United Kingdom.svg\n",
      "国章画像:[[ファイル:Royal Coat of Arms of the United Kingdom.svg|85px|イギリスの国章]]\n",
      "国章リンク:（[[イギリスの国章|国章]]）\n",
      "標語:{{lang|fr|[[Dieu et mon droit]]}}<br />（[[フランス語]]:[[Dieu et mon droit|神と我が権利]]）\n",
      "国歌:[[女王陛下万歳|{{lang|en|God Save the Queen}}]]{{en icon}}<br />''神よ女王を護り賜え''<br />{{center|[[ファイル:United States Navy Band - God Save the Queen.ogg]]}}\n",
      "地図画像:Europe-UK.svg\n",
      "位置画像:United Kingdom (+overseas territories) in the World (+Antarctica claims).svg\n",
      "公用語:[[英語]]\n",
      "首都:[[ロンドン]]（事実上）\n",
      "最大都市:ロンドン\n",
      "元首等肩書:[[イギリスの君主|女王]]\n",
      "元首等氏名:[[エリザベス2世]]\n",
      "首相等肩書:[[イギリスの首相|首相]]\n",
      "首相等氏名:[[ボリス・ジョンソン]]\n",
      "他元首等肩書1:[[貴族院 (イギリス)|貴族院議長]]\n",
      "他元首等氏名1:[[:en:Norman Fowler, Baron Fowler|ノーマン・ファウラー]]\n",
      "他元首等肩書2:[[庶民院 (イギリス)|庶民院議長]]\n",
      "他元首等氏名2:{{仮リンク|リンゼイ・ホイル|en|Lindsay Hoyle}}\n",
      "他元首等肩書3:[[連合王国最高裁判所|最高裁判所長官]]\n",
      "他元首等氏名3:[[:en:Brenda Hale, Baroness Hale of Richmond|ブレンダ・ヘイル]]\n",
      "面積順位:76\n",
      "面積大きさ:1 E11\n",
      "面積値:244,820\n",
      "水面積率:1.3%\n",
      "人口統計年:2018\n",
      "人口順位:22\n",
      "人口大きさ:1 E7\n",
      "人口値:6643万5600<ref>{{Cite web|url=https://www.ons.gov.uk/peoplepopulationandcommunity/populationandmigration/populationestimates|title=Population estimates - Office for National Statistics|accessdate=2019-06-26|date=2019-06-26}}</ref>\n",
      "人口密度値:271\n",
      "GDP統計年元:2012\n",
      "GDP値元:1兆5478億<ref name=\"imf-statistics-gdp\">[http://www.imf.org/external/pubs/ft/weo/2012/02/weodata/weorept.aspx?pr.x=70&pr.y=13&sy=2010&ey=2012&scsm=1&ssd=1&sort=country&ds=.&br=1&c=112&s=NGDP%2CNGDPD%2CPPPGDP%2CPPPPC&grp=0&a=IMF>Data and Statistics>World Economic Outlook Databases>By Countrise>United Kingdom]</ref>\n",
      "GDP統計年MER:2012\n",
      "GDP順位MER:6\n",
      "GDP値MER:2兆4337億<ref name=\"imf-statistics-gdp\" />\n",
      "GDP統計年:2012\n",
      "GDP順位:6\n",
      "GDP値:2兆3162億<ref name=\"imf-statistics-gdp\" />\n",
      "GDP/人:36,727<ref name=\"imf-statistics-gdp\" />\n",
      "建国形態:建国\n",
      "確立形態1:[[イングランド王国]]／[[スコットランド王国]]<br />（両国とも[[合同法 (1707年)|1707年合同法]]まで）\n",
      "確立年月日1:927年／843年\n",
      "確立形態2:[[グレートブリテン王国]]成立<br />（1707年合同法）\n",
      "確立年月日2:1707年{{0}}5月{{0}}1日\n",
      "確立形態3:[[グレートブリテン及びアイルランド連合王国]]成立<br />（[[合同法 (1800年)|1800年合同法]]）\n",
      "確立年月日3:1801年{{0}}1月{{0}}1日\n",
      "確立形態4:現在の国号「'''グレートブリテン及び北アイルランド連合王国'''」に変更\n",
      "確立年月日4:1927年{{0}}4月12日\n",
      "通貨:[[スターリング・ポンド|UKポンド]] (£)\n",
      "通貨コード:GBP\n",
      "時間帯:±0\n",
      "夏時間:+1\n",
      "ISO 3166-1:GB / GBR\n",
      "ccTLD:[[.uk]] / [[.gb]]<ref>使用は.ukに比べ圧倒的少数。</ref>\n",
      "国際電話番号:44\n",
      "注記:<references/>\n"
     ]
    }
   ],
   "source": [
    "pattern = r'^\\{\\{基礎情報.*?$(.*?)^\\}\\}'\n",
    "template = re.findall(pattern, text_uk, re.MULTILINE + re.DOTALL)\n",
    "print(template)\n",
    "\n",
    "pattern = r'^\\|(.+?)\\s*=\\s*(.+?)(?:(?=\\n\\|)|(?=\\n$))'\n",
    "result = dict(re.findall(pattern, template[0], re.MULTILINE + re.DOTALL))\n",
    "for k, v in result.items():\n",
    "    print(k + \":\" + v)"
   ]
  },
  {
   "cell_type": "code",
   "execution_count": 27,
   "metadata": {},
   "outputs": [
    {
     "name": "stdout",
     "output_type": "stream",
     "text": [
      "略名:イギリス\n",
      "日本語国名:グレートブリテン及び北アイルランド連合王国\n",
      "公式国名:{{lang|en|United Kingdom of Great Britain and Northern Ireland}}<ref>英語以外での正式国名:<br />\n",
      "*{{lang|gd|An Rìoghachd Aonaichte na Breatainn Mhòr agus Eirinn mu Thuath}}（[[スコットランド・ゲール語]]）\n",
      "*{{lang|cy|Teyrnas Gyfunol Prydain Fawr a Gogledd Iwerddon}}（[[ウェールズ語]]）\n",
      "*{{lang|ga|Ríocht Aontaithe na Breataine Móire agus Tuaisceart na hÉireann}}（[[アイルランド語]]）\n",
      "*{{lang|kw|An Rywvaneth Unys a Vreten Veur hag Iwerdhon Glédh}}（[[コーンウォール語]]）\n",
      "*{{lang|sco|Unitit Kinrick o Great Breetain an Northren Ireland}}（[[スコットランド語]]）\n",
      "**{{lang|sco|Claught Kängrick o Docht Brätain an Norlin Airlann}}、{{lang|sco|Unitet Kängdom o Great Brittain an Norlin Airlann}}（アルスター・スコットランド語）</ref>\n",
      "国旗画像:Flag of the United Kingdom.svg\n",
      "国章画像:[[ファイル:Royal Coat of Arms of the United Kingdom.svg|85px|イギリスの国章]]\n",
      "国章リンク:（[[イギリスの国章|国章]]）\n",
      "標語:{{lang|fr|[[Dieu et mon droit]]}}<br />（[[フランス語]]:[[Dieu et mon droit|神と我が権利]]）\n",
      "国歌:[[女王陛下万歳|{{lang|en|God Save the Queen}}]]{{en icon}}<br />''神よ女王を護り賜え''<br />{{center|[[ファイル:United States Navy Band - God Save the Queen.ogg]]}}\n",
      "地図画像:Europe-UK.svg\n",
      "位置画像:United Kingdom (+overseas territories) in the World (+Antarctica claims).svg\n",
      "公用語:[[英語]]\n",
      "首都:[[ロンドン]]（事実上）\n",
      "最大都市:ロンドン\n",
      "元首等肩書:[[イギリスの君主|女王]]\n",
      "元首等氏名:[[エリザベス2世]]\n",
      "首相等肩書:[[イギリスの首相|首相]]\n",
      "首相等氏名:[[ボリス・ジョンソン]]\n",
      "他元首等肩書1:[[貴族院 (イギリス)|貴族院議長]]\n",
      "他元首等氏名1:[[:en:Norman Fowler, Baron Fowler|ノーマン・ファウラー]]\n",
      "他元首等肩書2:[[庶民院 (イギリス)|庶民院議長]]\n",
      "他元首等氏名2:{{仮リンク|リンゼイ・ホイル|en|Lindsay Hoyle}}\n",
      "他元首等肩書3:[[連合王国最高裁判所|最高裁判所長官]]\n",
      "他元首等氏名3:[[:en:Brenda Hale, Baroness Hale of Richmond|ブレンダ・ヘイル]]\n",
      "面積順位:76\n",
      "面積大きさ:1 E11\n",
      "面積値:244,820\n",
      "水面積率:1.3%\n",
      "人口統計年:2018\n",
      "人口順位:22\n",
      "人口大きさ:1 E7\n",
      "人口値:6643万5600<ref>{{Cite web|url=https://www.ons.gov.uk/peoplepopulationandcommunity/populationandmigration/populationestimates|title=Population estimates - Office for National Statistics|accessdate=2019-06-26|date=2019-06-26}}</ref>\n",
      "人口密度値:271\n",
      "GDP統計年元:2012\n",
      "GDP値元:1兆5478億<ref name=\"imf-statistics-gdp\">[http://www.imf.org/external/pubs/ft/weo/2012/02/weodata/weorept.aspx?pr.x=70&pr.y=13&sy=2010&ey=2012&scsm=1&ssd=1&sort=country&ds=.&br=1&c=112&s=NGDP%2CNGDPD%2CPPPGDP%2CPPPPC&grp=0&a=IMF>Data and Statistics>World Economic Outlook Databases>By Countrise>United Kingdom]</ref>\n",
      "GDP統計年MER:2012\n",
      "GDP順位MER:6\n",
      "GDP値MER:2兆4337億<ref name=\"imf-statistics-gdp\" />\n",
      "GDP統計年:2012\n",
      "GDP順位:6\n",
      "GDP値:2兆3162億<ref name=\"imf-statistics-gdp\" />\n",
      "GDP/人:36,727<ref name=\"imf-statistics-gdp\" />\n",
      "建国形態:建国\n",
      "確立形態1:[[イングランド王国]]／[[スコットランド王国]]<br />（両国とも[[合同法 (1707年)|1707年合同法]]まで）\n",
      "確立年月日1:927年／843年\n",
      "確立形態2:[[グレートブリテン王国]]成立<br />（1707年合同法）\n",
      "確立年月日2:1707年{{0}}5月{{0}}1日\n",
      "確立形態3:[[グレートブリテン及びアイルランド連合王国]]成立<br />（[[合同法 (1800年)|1800年合同法]]）\n",
      "確立年月日3:1801年{{0}}1月{{0}}1日\n",
      "確立形態4:現在の国号「'''グレートブリテン及び北アイルランド連合王国'''」に変更\n",
      "確立年月日4:1927年{{0}}4月12日\n",
      "通貨:[[スターリング・ポンド|UKポンド]] (£)\n",
      "通貨コード:GBP\n",
      "時間帯:±0\n",
      "夏時間:+1\n",
      "ISO 3166-1:GB / GBR\n",
      "ccTLD:[[.uk]] / [[.gb]]<ref>使用は.ukに比べ圧倒的少数。</ref>\n",
      "国際電話番号:44\n",
      "注記:<references/>\n"
     ]
    }
   ],
   "source": [
    "def remove_markup(text):\n",
    "    pattern = r'\\{2, 5}'\n",
    "    text = re.sub(pattern, \"\", text)\n",
    "    \n",
    "    return text\n",
    "\n",
    "result_nm = {k: remove_markup(v) for k, v in result.items()}\n",
    "for k, v in result_nm.items():\n",
    "    print(k + \":\" + v)"
   ]
  },
  {
   "cell_type": "code",
   "execution_count": 28,
   "metadata": {},
   "outputs": [
    {
     "name": "stdout",
     "output_type": "stream",
     "text": [
      "略名:イギリス\n",
      "日本語国名:グレートブリテン及び北アイルランド連合王国\n",
      "公式国名:{{lang|en|United Kingdom of Great Britain and Northern Ireland}}<ref>英語以外での正式国名:<br />\n",
      "*{{lang|gd|An Rìoghachd Aonaichte na Breatainn Mhòr agus Eirinn mu Thuath}}（スコットランド・ゲール語）\n",
      "*{{lang|cy|Teyrnas Gyfunol Prydain Fawr a Gogledd Iwerddon}}（ウェールズ語）\n",
      "*{{lang|ga|Ríocht Aontaithe na Breataine Móire agus Tuaisceart na hÉireann}}（アイルランド語）\n",
      "*{{lang|kw|An Rywvaneth Unys a Vreten Veur hag Iwerdhon Glédh}}（コーンウォール語）\n",
      "*{{lang|sco|Unitit Kinrick o Great Breetain an Northren Ireland}}（スコットランド語）\n",
      "**{{lang|sco|Claught Kängrick o Docht Brätain an Norlin Airlann}}、{{lang|sco|Unitet Kängdom o Great Brittain an Norlin Airlann}}（アルスター・スコットランド語）</ref>\n",
      "国旗画像:Flag of the United Kingdom.svg\n",
      "国章画像:[[ファイル:Royal Coat of Arms of the United Kingdom.svg|85px|イギリスの国章]]\n",
      "国章リンク:（国章）\n",
      "標語:{{lang|fr|Dieu et mon droit}}<br />（フランス語:神と我が権利）\n",
      "国歌:[[女王陛下万歳|{{lang|en|God Save the Queen}}]]{{en icon}}<br />''神よ女王を護り賜え''<br />{{center|ファイル:United States Navy Band - God Save the Queen.ogg}}\n",
      "地図画像:Europe-UK.svg\n",
      "位置画像:United Kingdom (+overseas territories) in the World (+Antarctica claims).svg\n",
      "公用語:英語\n",
      "首都:ロンドン（事実上）\n",
      "最大都市:ロンドン\n",
      "元首等肩書:女王\n",
      "元首等氏名:エリザベス2世\n",
      "首相等肩書:首相\n",
      "首相等氏名:ボリス・ジョンソン\n",
      "他元首等肩書1:貴族院議長\n",
      "他元首等氏名1:ノーマン・ファウラー\n",
      "他元首等肩書2:庶民院議長\n",
      "他元首等氏名2:{{仮リンク|リンゼイ・ホイル|en|Lindsay Hoyle}}\n",
      "他元首等肩書3:最高裁判所長官\n",
      "他元首等氏名3:ブレンダ・ヘイル\n",
      "面積順位:76\n",
      "面積大きさ:1 E11\n",
      "面積値:244,820\n",
      "水面積率:1.3%\n",
      "人口統計年:2018\n",
      "人口順位:22\n",
      "人口大きさ:1 E7\n",
      "人口値:6643万5600<ref>{{Cite web|url=https://www.ons.gov.uk/peoplepopulationandcommunity/populationandmigration/populationestimates|title=Population estimates - Office for National Statistics|accessdate=2019-06-26|date=2019-06-26}}</ref>\n",
      "人口密度値:271\n",
      "GDP統計年元:2012\n",
      "GDP値元:1兆5478億<ref name=\"imf-statistics-gdp\">[http://www.imf.org/external/pubs/ft/weo/2012/02/weodata/weorept.aspx?pr.x=70&pr.y=13&sy=2010&ey=2012&scsm=1&ssd=1&sort=country&ds=.&br=1&c=112&s=NGDP%2CNGDPD%2CPPPGDP%2CPPPPC&grp=0&a=IMF>Data and Statistics>World Economic Outlook Databases>By Countrise>United Kingdom]</ref>\n",
      "GDP統計年MER:2012\n",
      "GDP順位MER:6\n",
      "GDP値MER:2兆4337億<ref name=\"imf-statistics-gdp\" />\n",
      "GDP統計年:2012\n",
      "GDP順位:6\n",
      "GDP値:2兆3162億<ref name=\"imf-statistics-gdp\" />\n",
      "GDP/人:36,727<ref name=\"imf-statistics-gdp\" />\n",
      "建国形態:建国\n",
      "確立形態1:イングランド王国／スコットランド王国<br />（両国とも1707年合同法まで）\n",
      "確立年月日1:927年／843年\n",
      "確立形態2:グレートブリテン王国成立<br />（1707年合同法）\n",
      "確立年月日2:1707年{{0}}5月{{0}}1日\n",
      "確立形態3:グレートブリテン及びアイルランド連合王国成立<br />（1800年合同法）\n",
      "確立年月日3:1801年{{0}}1月{{0}}1日\n",
      "確立形態4:現在の国号「'''グレートブリテン及び北アイルランド連合王国'''」に変更\n",
      "確立年月日4:1927年{{0}}4月12日\n",
      "通貨:UKポンド (£)\n",
      "通貨コード:GBP\n",
      "時間帯:±0\n",
      "夏時間:+1\n",
      "ISO 3166-1:GB / GBR\n",
      "ccTLD:.uk / .gb<ref>使用は.ukに比べ圧倒的少数。</ref>\n",
      "国際電話番号:44\n",
      "注記:<references/>\n"
     ]
    }
   ],
   "source": [
    "def remove_markup(text):\n",
    "    pattern = r'\\'{2, 5}'\n",
    "    text = re.sub(pattern, \"\", text)\n",
    "    \n",
    "    pattern = r'\\[\\[(?:[^|]*?\\|)??([^|]*?)\\]\\]'\n",
    "    text = re.sub(pattern, r'\\1', text)\n",
    "    \n",
    "    return text\n",
    "\n",
    "result_nm = {k: remove_markup(v) for k, v in result.items()}\n",
    "for k, v in result_nm.items():\n",
    "    print(k + \":\" + v)"
   ]
  },
  {
   "cell_type": "code",
   "execution_count": 29,
   "metadata": {},
   "outputs": [
    {
     "name": "stdout",
     "output_type": "stream",
     "text": [
      "略名: イギリス\n",
      "日本語国名: グレートブリテン及び北アイルランド連合王国\n",
      "公式国名: United Kingdom of Great Britain and Northern Ireland英語以外での正式国名:\n",
      "*An Rìoghachd Aonaichte na Breatainn Mhòr agus Eirinn mu Thuath（スコットランド・ゲール語）\n",
      "*Teyrnas Gyfunol Prydain Fawr a Gogledd Iwerddon（ウェールズ語）\n",
      "*Ríocht Aontaithe na Breataine Móire agus Tuaisceart na hÉireann（アイルランド語）\n",
      "*An Rywvaneth Unys a Vreten Veur hag Iwerdhon Glédh（コーンウォール語）\n",
      "*Unitit Kinrick o Great Breetain an Northren Ireland（スコットランド語）\n",
      "**Claught Kängrick o Docht Brätain an Norlin Airlann、Unitet Kängdom o Great Brittain an Norlin Airlann（アルスター・スコットランド語）\n",
      "国旗画像: Flag of the United Kingdom.svg\n",
      "国章画像: [[ファイル:Royal Coat of Arms of the United Kingdom.svg|85px|イギリスの国章]]\n",
      "国章リンク: （国章）\n",
      "標語: Dieu et mon droit（フランス語:神と我が権利）\n",
      "国歌: [[女王陛下万歳|God Save the Queen]]{{en icon}}神よ女王を護り賜え{{center|ファイル:United States Navy Band - God Save the Queen.ogg}}\n",
      "地図画像: Europe-UK.svg\n",
      "位置画像: United Kingdom (+overseas territories) in the World (+Antarctica claims).svg\n",
      "公用語: 英語\n",
      "首都: ロンドン（事実上）\n",
      "最大都市: ロンドン\n",
      "元首等肩書: 女王\n",
      "元首等氏名: エリザベス2世\n",
      "首相等肩書: 首相\n",
      "首相等氏名: ボリス・ジョンソン\n",
      "他元首等肩書1: 貴族院議長\n",
      "他元首等氏名1: ノーマン・ファウラー\n",
      "他元首等肩書2: 庶民院議長\n",
      "他元首等氏名2: Lindsay Hoyle\n",
      "他元首等肩書3: 最高裁判所長官\n",
      "他元首等氏名3: ブレンダ・ヘイル\n",
      "面積順位: 76\n",
      "面積大きさ: 1 E11\n",
      "面積値: 244,820\n",
      "水面積率: 1.3%\n",
      "人口統計年: 2018\n",
      "人口順位: 22\n",
      "人口大きさ: 1 E7\n",
      "人口値: 6643万5600{{Cite web|url=|title=Population estimates - Office for National Statistics|accessdate=2019-06-26|date=2019-06-26}}\n",
      "人口密度値: 271\n",
      "GDP統計年元: 2012\n",
      "GDP値元: 1兆5478億[>Data and Statistics>World Economic Outlook Databases>By Countrise>United Kingdom]\n",
      "GDP統計年MER: 2012\n",
      "GDP順位MER: 6\n",
      "GDP値MER: 2兆4337億\n",
      "GDP統計年: 2012\n",
      "GDP順位: 6\n",
      "GDP値: 2兆3162億\n",
      "GDP/人: 36,727\n",
      "建国形態: 建国\n",
      "確立形態1: イングランド王国／スコットランド王国（両国とも1707年合同法まで）\n",
      "確立年月日1: 927年／843年\n",
      "確立形態2: グレートブリテン王国成立（1707年合同法）\n",
      "確立年月日2: 1707年{{0}}5月{{0}}1日\n",
      "確立形態3: グレートブリテン及びアイルランド連合王国成立（1800年合同法）\n",
      "確立年月日3: 1801年{{0}}1月{{0}}1日\n",
      "確立形態4: 現在の国号「グレートブリテン及び北アイルランド連合王国」に変更\n",
      "確立年月日4: 1927年{{0}}4月12日\n",
      "通貨: UKポンド (£)\n",
      "通貨コード: GBP\n",
      "時間帯: ±0\n",
      "夏時間: +1\n",
      "ISO 3166-1: GB / GBR\n",
      "ccTLD: .uk / .gb使用は.ukに比べ圧倒的少数。\n",
      "国際電話番号: 44\n",
      "注記: \n"
     ]
    }
   ],
   "source": [
    "def remove_markup(text):\n",
    "    # 強調マークアップの除去\n",
    "    pattern = r'\\'{2,5}'\n",
    "    text = re.sub(pattern, '', text)\n",
    "\n",
    "    # 内部リンクマークアップの除去\n",
    "    pattern = r'\\[\\[(?:[^|]*?\\|)??([^|]*?)\\]\\]'\n",
    "    text = re.sub(pattern, r'\\1', text)\n",
    "\n",
    "    # 外部リンクマークアップの除去\n",
    "    pattern = r'https?://[\\w!?/\\+\\-_~=;\\.,*&@#$%\\(\\)\\'\\[\\]]+'\n",
    "    text = re.sub(pattern, '', text)\n",
    "\n",
    "    # htmlタグの除去\n",
    "    pattern = r'<.+?>' \n",
    "    text = re.sub(pattern, '', text)\n",
    "\n",
    "    # テンプレートの除去\n",
    "    pattern = r'\\{\\{(?:lang|仮リンク)(?:[^|]*?\\|)*?([^|]*?)\\}\\}' \n",
    "    text = re.sub(pattern, r'\\1', text)\n",
    "\n",
    "    return text\n",
    "\n",
    "result_rm = {k: remove_markup(v) for k, v in result.items()}\n",
    "for k, v in result_rm.items():\n",
    "    print(k + ': ' + v)"
   ]
  },
  {
   "cell_type": "code",
   "execution_count": 30,
   "metadata": {},
   "outputs": [
    {
     "name": "stdout",
     "output_type": "stream",
     "text": [
      "{'surface': '\\u3000', 'base': '\\u3000', 'pos': '記号', 'pos1': '空白'}\n",
      "{'surface': '吾輩', 'base': '吾輩', 'pos': '名詞', 'pos1': '代名詞'}\n",
      "{'surface': 'は', 'base': 'は', 'pos': '助詞', 'pos1': '係助詞'}\n",
      "{'surface': '猫', 'base': '猫', 'pos': '名詞', 'pos1': '一般'}\n",
      "{'surface': 'で', 'base': 'だ', 'pos': '助動詞', 'pos1': '*'}\n",
      "{'surface': 'ある', 'base': 'ある', 'pos': '助動詞', 'pos1': '*'}\n",
      "{'surface': '。', 'base': '。', 'pos': '記号', 'pos1': '句点'}\n"
     ]
    }
   ],
   "source": [
    "filename = \"./neko.txt.mecab\"\n",
    "\n",
    "sentences = []\n",
    "morphs = []\n",
    "with open(filename, mode='r') as f:\n",
    "    for line in f:\n",
    "        if line != 'EOS\\n':\n",
    "            fields = line.split('\\t')\n",
    "            if len(fields) != 2 or fields[0] == '':\n",
    "                continue\n",
    "            else:\n",
    "                attr = fields[1].split(',')\n",
    "                morph = {\"surface\":fields[0], \"base\": attr[6], \"pos\": attr[0], \"pos1\": attr[1]}\n",
    "                morphs.append(morph)\n",
    "        else:\n",
    "            sentences.append(morphs)\n",
    "            morphs = []\n",
    "            \n",
    "for morph in sentences[2]:\n",
    "    print(morph)"
   ]
  },
  {
   "cell_type": "code",
   "execution_count": 31,
   "metadata": {},
   "outputs": [
    {
     "name": "stdout",
     "output_type": "stream",
     "text": [
      "動詞の表層形の種類: 3893\n",
      "\n",
      "--サンプル--\n",
      "参り\n",
      "鳴\n",
      "話す\n",
      "むい\n",
      "のぼせ\n",
      "とり\n",
      "下せる\n",
      "おり\n",
      "押しやり\n",
      "阿\n"
     ]
    }
   ],
   "source": [
    "ans = set()\n",
    "for sentence in sentences:\n",
    "    for morph in sentence:\n",
    "        if morph[\"pos\"] == \"動詞\":\n",
    "            ans.add(morph[\"surface\"])\n",
    "            \n",
    "print(f'動詞の表層形の種類: {len(ans)}\\n')\n",
    "print(\"--サンプル--\")\n",
    "for v in list(ans)[:10]:\n",
    "    print(v)"
   ]
  },
  {
   "cell_type": "code",
   "execution_count": 32,
   "metadata": {},
   "outputs": [
    {
     "name": "stdout",
     "output_type": "stream",
     "text": [
      "名詞の表層形のの種類: 8463\n",
      "\n",
      "--サンプル--\n",
      "月給\n",
      "摺\n",
      "おり\n",
      "侍従\n",
      "釘付け\n",
      "愚か\n",
      "厘\n",
      "銅鑼\n",
      "打\n",
      "久し振り\n"
     ]
    }
   ],
   "source": [
    "ans = set()\n",
    "for sentence in sentences:\n",
    "    for morph in sentence:\n",
    "        if morph[\"pos\"] == \"名詞\":\n",
    "            ans.add(morph[\"surface\"])\n",
    "            \n",
    "print(f'名詞の表層形のの種類: {len(ans)}\\n')\n",
    "print(\"--サンプル--\")\n",
    "for v in list(ans)[:10]:\n",
    "    print(v)"
   ]
  },
  {
   "cell_type": "code",
   "execution_count": 33,
   "metadata": {},
   "outputs": [
    {
     "name": "stdout",
     "output_type": "stream",
     "text": [
      "名詞＋の＋名詞の表層形の種類: 4924\n",
      "\n",
      "---サンプル---\n",
      "回の声\n",
      "ベトヴェンのシンフォニー\n",
      "君の声\n",
      "自分の馬鹿\n",
      "中心の世\n",
      "伯父の牧山\n",
      "正当の手続き\n",
      "主人の論理\n",
      "後の今日\n",
      "俳劇の二\n"
     ]
    }
   ],
   "source": [
    "ans = set()\n",
    "for sentence in sentences:\n",
    "    for i in range(1, len(sentence) - 1):\n",
    "        if sentence[i - 1][\"pos\"] == \"名詞\" and sentence[i][\"surface\"] == \"の\" and sentence[i + 1][\"pos\"] == \"名詞\":\n",
    "            ans.add(sentence[i - 1][\"surface\"] + sentence[i][\"surface\"] + sentence[i + 1][\"surface\"])\n",
    "            \n",
    "print(f'名詞＋の＋名詞の表層形の種類: {len(ans)}\\n')\n",
    "print(\"---サンプル---\")\n",
    "for v in list(ans)[:10]:\n",
    "    print(v)"
   ]
  },
  {
   "cell_type": "code",
   "execution_count": 34,
   "metadata": {},
   "outputs": [
    {
     "name": "stdout",
     "output_type": "stream",
     "text": [
      "連接名詞の種類: 4457\n",
      "\n",
      "---サンプル---\n",
      "大変味淋\n",
      "半分妻君\n",
      "先生あすこ\n",
      "歓喜何もの\n",
      "東郷大将\n",
      "消極的修養\n",
      "夫子自身\n",
      "駄弁家\n",
      "火消壺\n",
      "元来不明瞭\n"
     ]
    }
   ],
   "source": [
    "ans = set()\n",
    "for sentence in sentences:\n",
    "    nouns = ''\n",
    "    num = 0\n",
    "    for morph in sentence:\n",
    "        if morph[\"pos\"] == \"名詞\":\n",
    "            nouns = ''.join([nouns, morph[\"surface\"]])\n",
    "            num += 1\n",
    "        elif num >= 2:\n",
    "            ans.add(nouns)\n",
    "            nouns = ''\n",
    "            num = 0\n",
    "            \n",
    "        else:\n",
    "            nouns = ''\n",
    "            num = 0\n",
    "    if num >= 2:\n",
    "        ans.add(nouns)\n",
    "        \n",
    "print(f'連接名詞の種類: {len(ans)}\\n')\n",
    "print(\"---サンプル---\")\n",
    "for v in list(ans)[:10]:\n",
    "    print(v)"
   ]
  },
  {
   "cell_type": "code",
   "execution_count": 35,
   "metadata": {},
   "outputs": [
    {
     "name": "stdout",
     "output_type": "stream",
     "text": [
      "('の', 9194)\n",
      "('て', 6848)\n",
      "('は', 6420)\n",
      "('に', 6243)\n",
      "('を', 6071)\n",
      "('だ', 5972)\n",
      "('と', 5508)\n",
      "('が', 5337)\n",
      "('た', 4267)\n",
      "('する', 3657)\n"
     ]
    }
   ],
   "source": [
    "from collections import defaultdict\n",
    "\n",
    "ans = defaultdict(int)\n",
    "for sentence in sentences:\n",
    "    for morph in sentence:\n",
    "        if morph['pos'] != '記号':\n",
    "            ans[morph['base']] += 1  # 単語数の更新(初登場の単語であれば1をセット)\n",
    "ans = sorted(ans.items(), key=lambda x: x[1], reverse=True)\n",
    "\n",
    "# 確認\n",
    "for w in ans[:10]:\n",
    "    print(w)"
   ]
  },
  {
   "cell_type": "code",
   "execution_count": 36,
   "metadata": {},
   "outputs": [
    {
     "data": {
      "image/png": "[encoded data removed]",
      "text/plain": [
       "<Figure size 576x288 with 1 Axes>"
      ]
     },
     "metadata": {
      "needs_background": "light"
     },
     "output_type": "display_data"
    }
   ],
   "source": [
    "import matplotlib.pyplot as plt\n",
    "import japanize_matplotlib\n",
    "\n",
    "ans = defaultdict(int)\n",
    "for sentence in sentences:\n",
    "    for morph in sentence:\n",
    "        if morph[\"pos\"] != \"記号\":\n",
    "            ans[morph[\"base\"]] += 1\n",
    "\n",
    "ans = sorted(ans.items(), key=lambda x: x[1], reverse=True)\n",
    "\n",
    "\n",
    "keys = [a[0] for a in ans[0:10]]\n",
    "values = [a[1] for a in ans[0:10]]\n",
    "plt.figure(figsize=(8, 4))\n",
    "plt.bar(keys, values)\n",
    "plt.show()"
   ]
  },
  {
   "cell_type": "code",
   "execution_count": 37,
   "metadata": {},
   "outputs": [
    {
     "data": {
      "image/png": "[encoded data removed]",
      "text/plain": [
       "<Figure size 576x432 with 1 Axes>"
      ]
     },
     "metadata": {
      "needs_background": "light"
     },
     "output_type": "display_data"
    }
   ],
   "source": [
    "ans = defaultdict(int)\n",
    "\n",
    "for sentence in sentences:\n",
    "    if \"猫\" in [morph[\"surface\"] for morph in sentence]:\n",
    "        for morph in sentence:\n",
    "            if morph[\"pos\"] != '記号':\n",
    "                ans[morph[\"base\"]] += 1\n",
    "                \n",
    "del ans[\"猫\"]\n",
    "ans = sorted(ans.items(), key=lambda x: x[1], reverse=True)\n",
    "\n",
    "keys = [a[0] for a in ans[0:10]]\n",
    "values = [a[1] for a in ans[0:10]]\n",
    "plt.figure(figsize=(8, 6))\n",
    "plt.bar(keys, values)\n",
    "plt.show()"
   ]
  },
  {
   "cell_type": "code",
   "execution_count": 38,
   "metadata": {},
   "outputs": [
    {
     "data": {
      "image/png": "[encoded data removed]",
      "text/plain": [
       "<Figure size 576x432 with 1 Axes>"
      ]
     },
     "metadata": {
      "needs_background": "light"
     },
     "output_type": "display_data"
    }
   ],
   "source": [
    "ans = defaultdict(int)\n",
    "for sentence in sentences:\n",
    "    for morph in sentence:\n",
    "        if morph[\"pos\"] != \"記号\":\n",
    "            ans[morph[\"base\"]] += 1\n",
    "ans = ans.values()\n",
    "\n",
    "plt.figure(figsize=(8, 6))\n",
    "plt.hist(ans, bins=100)\n",
    "plt.xlabel(\"出現回数\")\n",
    "plt.ylabel(\"単語の種類\")\n",
    "plt.show()"
   ]
  },
  {
   "cell_type": "code",
   "execution_count": 39,
   "metadata": {},
   "outputs": [
    {
     "data": {
      "image/png": "[encoded data removed]",
      "text/plain": [
       "<Figure size 576x432 with 1 Axes>"
      ]
     },
     "metadata": {
      "needs_background": "light"
     },
     "output_type": "display_data"
    }
   ],
   "source": [
    "import math \n",
    "\n",
    "ans = defaultdict(int)\n",
    "for sentence in sentences:\n",
    "    for morph in sentence:\n",
    "        if morph[\"pos\"] != \"記号\":\n",
    "            ans[morph[\"base\"]] += 1\n",
    "ans = sorted(ans.items(), key=lambda x: x[1], reverse=True)\n",
    "\n",
    "ranks = [r + 1 for r in range(len(ans))]\n",
    "values = [a[1] for a in ans]\n",
    "plt.figure(figsize=(8, 6))\n",
    "plt.scatter(ranks, values)\n",
    "plt.xscale(\"log\")\n",
    "plt.yscale(\"log\")\n",
    "plt.xlabel(\"出現回数\")\n",
    "plt.ylabel(\"出現頻度\")\n",
    "plt.show()"
   ]
  },
  {
   "cell_type": "code",
   "execution_count": 40,
   "metadata": {},
   "outputs": [],
   "source": [
    "class Morph:\n",
    "      def __init__(self, morph):\n",
    "            (surface, attr) = morph.split('\\t')\n",
    "            attr = attr.split(',')\n",
    "            self.surface = surface\n",
    "            self.base = attr[6]\n",
    "            self.pos = attr[0]\n",
    "            self.pos1 = attr[1]"
   ]
  },
  {
   "cell_type": "code",
   "execution_count": 41,
   "metadata": {},
   "outputs": [
    {
     "name": "stdout",
     "output_type": "stream",
     "text": [
      "{'surface': '人工', 'base': '人工', 'pos': '名詞', 'pos1': '一般'}\n",
      "{'surface': '知能', 'base': '知能', 'pos': '名詞', 'pos1': '一般'}\n",
      "{'surface': '（', 'base': '（', 'pos': '記号', 'pos1': '括弧開'}\n",
      "{'surface': 'じん', 'base': 'じん', 'pos': '名詞', 'pos1': '一般'}\n",
      "{'surface': 'こうち', 'base': 'こうち', 'pos': '名詞', 'pos1': '一般'}\n",
      "{'surface': 'のう', 'base': 'のう', 'pos': '助詞', 'pos1': '終助詞'}\n",
      "{'surface': '、', 'base': '、', 'pos': '記号', 'pos1': '読点'}\n",
      "{'surface': '、', 'base': '、', 'pos': '記号', 'pos1': '読点'}\n",
      "{'surface': 'AI', 'base': '*\\n', 'pos': '名詞', 'pos1': '一般'}\n",
      "{'surface': '〈', 'base': '〈', 'pos': '記号', 'pos1': '括弧開'}\n",
      "{'surface': 'エーアイ', 'base': '*\\n', 'pos': '名詞', 'pos1': '固有名詞'}\n",
      "{'surface': '〉', 'base': '〉', 'pos': '記号', 'pos1': '括弧閉'}\n",
      "{'surface': '）', 'base': '）', 'pos': '記号', 'pos1': '括弧閉'}\n",
      "{'surface': 'と', 'base': 'と', 'pos': '助詞', 'pos1': '格助詞'}\n",
      "{'surface': 'は', 'base': 'は', 'pos': '助詞', 'pos1': '係助詞'}\n",
      "{'surface': '、', 'base': '、', 'pos': '記号', 'pos1': '読点'}\n",
      "{'surface': '「', 'base': '「', 'pos': '記号', 'pos1': '括弧開'}\n",
      "{'surface': '『', 'base': '『', 'pos': '記号', 'pos1': '括弧開'}\n",
      "{'surface': '計算', 'base': '計算', 'pos': '名詞', 'pos1': 'サ変接続'}\n",
      "{'surface': '（', 'base': '（', 'pos': '記号', 'pos1': '括弧開'}\n",
      "{'surface': '）', 'base': '）', 'pos': '記号', 'pos1': '括弧閉'}\n",
      "{'surface': '』', 'base': '』', 'pos': '記号', 'pos1': '括弧閉'}\n",
      "{'surface': 'という', 'base': 'という', 'pos': '助詞', 'pos1': '格助詞'}\n",
      "{'surface': '概念', 'base': '概念', 'pos': '名詞', 'pos1': '一般'}\n",
      "{'surface': 'と', 'base': 'と', 'pos': '助詞', 'pos1': '並立助詞'}\n",
      "{'surface': '『', 'base': '『', 'pos': '記号', 'pos1': '括弧開'}\n",
      "{'surface': 'コンピュータ', 'base': 'コンピュータ', 'pos': '名詞', 'pos1': '一般'}\n",
      "{'surface': '（', 'base': '（', 'pos': '記号', 'pos1': '括弧開'}\n",
      "{'surface': '）', 'base': '）', 'pos': '記号', 'pos1': '括弧閉'}\n",
      "{'surface': '』', 'base': '』', 'pos': '記号', 'pos1': '括弧閉'}\n",
      "{'surface': 'という', 'base': 'という', 'pos': '助詞', 'pos1': '格助詞'}\n",
      "{'surface': '道具', 'base': '道具', 'pos': '名詞', 'pos1': '一般'}\n",
      "{'surface': 'を', 'base': 'を', 'pos': '助詞', 'pos1': '格助詞'}\n",
      "{'surface': '用い', 'base': '用いる', 'pos': '動詞', 'pos1': '自立'}\n",
      "{'surface': 'て', 'base': 'て', 'pos': '助詞', 'pos1': '接続助詞'}\n",
      "{'surface': '『', 'base': '『', 'pos': '記号', 'pos1': '括弧開'}\n",
      "{'surface': '知能', 'base': '知能', 'pos': '名詞', 'pos1': '一般'}\n",
      "{'surface': '』', 'base': '』', 'pos': '記号', 'pos1': '括弧閉'}\n",
      "{'surface': 'を', 'base': 'を', 'pos': '助詞', 'pos1': '格助詞'}\n",
      "{'surface': '研究', 'base': '研究', 'pos': '名詞', 'pos1': 'サ変接続'}\n",
      "{'surface': 'する', 'base': 'する', 'pos': '動詞', 'pos1': '自立'}\n",
      "{'surface': '計算', 'base': '計算', 'pos': '名詞', 'pos1': 'サ変接続'}\n",
      "{'surface': '機', 'base': '機', 'pos': '名詞', 'pos1': '接尾'}\n",
      "{'surface': '科学', 'base': '科学', 'pos': '名詞', 'pos1': '一般'}\n",
      "{'surface': '（', 'base': '（', 'pos': '記号', 'pos1': '括弧開'}\n",
      "{'surface': '）', 'base': '）', 'pos': '記号', 'pos1': '括弧閉'}\n",
      "{'surface': 'の', 'base': 'の', 'pos': '助詞', 'pos1': '連体化'}\n",
      "{'surface': '一', 'base': '一', 'pos': '名詞', 'pos1': '数'}\n",
      "{'surface': '分野', 'base': '分野', 'pos': '名詞', 'pos1': '一般'}\n",
      "{'surface': '」', 'base': '」', 'pos': '記号', 'pos1': '括弧閉'}\n",
      "{'surface': 'を', 'base': 'を', 'pos': '助詞', 'pos1': '格助詞'}\n",
      "{'surface': '指す', 'base': '指す', 'pos': '動詞', 'pos1': '自立'}\n",
      "{'surface': '語', 'base': '語', 'pos': '名詞', 'pos1': '一般'}\n",
      "{'surface': '。', 'base': '。', 'pos': '記号', 'pos1': '句点'}\n",
      "{'surface': '「', 'base': '「', 'pos': '記号', 'pos1': '括弧開'}\n",
      "{'surface': '言語', 'base': '言語', 'pos': '名詞', 'pos1': '一般'}\n",
      "{'surface': 'の', 'base': 'の', 'pos': '助詞', 'pos1': '連体化'}\n",
      "{'surface': '理解', 'base': '理解', 'pos': '名詞', 'pos1': 'サ変接続'}\n",
      "{'surface': 'や', 'base': 'や', 'pos': '助詞', 'pos1': '並立助詞'}\n",
      "{'surface': '推論', 'base': '推論', 'pos': '名詞', 'pos1': 'サ変接続'}\n",
      "{'surface': '、', 'base': '、', 'pos': '記号', 'pos1': '読点'}\n",
      "{'surface': '問題', 'base': '問題', 'pos': '名詞', 'pos1': 'ナイ形容詞語幹'}\n",
      "{'surface': '解決', 'base': '解決', 'pos': '名詞', 'pos1': 'サ変接続'}\n",
      "{'surface': 'など', 'base': 'など', 'pos': '助詞', 'pos1': '副助詞'}\n",
      "{'surface': 'の', 'base': 'の', 'pos': '助詞', 'pos1': '連体化'}\n",
      "{'surface': '知的', 'base': '知的', 'pos': '名詞', 'pos1': '一般'}\n",
      "{'surface': '行動', 'base': '行動', 'pos': '名詞', 'pos1': 'サ変接続'}\n",
      "{'surface': 'を', 'base': 'を', 'pos': '助詞', 'pos1': '格助詞'}\n",
      "{'surface': '人間', 'base': '人間', 'pos': '名詞', 'pos1': '一般'}\n",
      "{'surface': 'に', 'base': 'に', 'pos': '助詞', 'pos1': '格助詞'}\n",
      "{'surface': '代わっ', 'base': '代わる', 'pos': '動詞', 'pos1': '自立'}\n",
      "{'surface': 'て', 'base': 'て', 'pos': '助詞', 'pos1': '接続助詞'}\n",
      "{'surface': 'コンピューター', 'base': 'コンピューター', 'pos': '名詞', 'pos1': '一般'}\n",
      "{'surface': 'に', 'base': 'に', 'pos': '助詞', 'pos1': '格助詞'}\n",
      "{'surface': '行わ', 'base': '行う', 'pos': '動詞', 'pos1': '自立'}\n",
      "{'surface': 'せる', 'base': 'せる', 'pos': '動詞', 'pos1': '接尾'}\n",
      "{'surface': '技術', 'base': '技術', 'pos': '名詞', 'pos1': '一般'}\n",
      "{'surface': '」', 'base': '」', 'pos': '記号', 'pos1': '括弧閉'}\n",
      "{'surface': '、', 'base': '、', 'pos': '記号', 'pos1': '読点'}\n",
      "{'surface': 'または', 'base': 'または', 'pos': '接続詞', 'pos1': '*'}\n",
      "{'surface': '、', 'base': '、', 'pos': '記号', 'pos1': '読点'}\n",
      "{'surface': '「', 'base': '「', 'pos': '記号', 'pos1': '括弧開'}\n",
      "{'surface': '計算', 'base': '計算', 'pos': '名詞', 'pos1': 'サ変接続'}\n",
      "{'surface': '機', 'base': '機', 'pos': '名詞', 'pos1': '接尾'}\n",
      "{'surface': '（', 'base': '（', 'pos': '記号', 'pos1': '括弧開'}\n",
      "{'surface': 'コンピュータ', 'base': 'コンピュータ', 'pos': '名詞', 'pos1': '一般'}\n",
      "{'surface': '）', 'base': '）', 'pos': '記号', 'pos1': '括弧閉'}\n",
      "{'surface': 'による', 'base': 'による', 'pos': '助詞', 'pos1': '格助詞'}\n",
      "{'surface': '知的', 'base': '知的', 'pos': '名詞', 'pos1': '形容動詞語幹'}\n",
      "{'surface': 'な', 'base': 'だ', 'pos': '助動詞', 'pos1': '*'}\n",
      "{'surface': '情報処理', 'base': '情報処理', 'pos': '名詞', 'pos1': '一般'}\n",
      "{'surface': 'システム', 'base': 'システム', 'pos': '名詞', 'pos1': '一般'}\n",
      "{'surface': 'の', 'base': 'の', 'pos': '助詞', 'pos1': '連体化'}\n",
      "{'surface': '設計', 'base': '設計', 'pos': '名詞', 'pos1': 'サ変接続'}\n",
      "{'surface': 'や', 'base': 'や', 'pos': '助詞', 'pos1': '並立助詞'}\n",
      "{'surface': '実現', 'base': '実現', 'pos': '名詞', 'pos1': 'サ変接続'}\n",
      "{'surface': 'に関する', 'base': 'に関する', 'pos': '助詞', 'pos1': '格助詞'}\n",
      "{'surface': '研究', 'base': '研究', 'pos': '名詞', 'pos1': 'サ変接続'}\n",
      "{'surface': '分野', 'base': '分野', 'pos': '名詞', 'pos1': '一般'}\n",
      "{'surface': '」', 'base': '」', 'pos': '記号', 'pos1': '括弧閉'}\n",
      "{'surface': 'と', 'base': 'と', 'pos': '助詞', 'pos1': '格助詞'}\n",
      "{'surface': 'も', 'base': 'も', 'pos': '助詞', 'pos1': '係助詞'}\n",
      "{'surface': 'さ', 'base': 'する', 'pos': '動詞', 'pos1': '自立'}\n",
      "{'surface': 'れる', 'base': 'れる', 'pos': '動詞', 'pos1': '接尾'}\n",
      "{'surface': '。', 'base': '。', 'pos': '記号', 'pos1': '句点'}\n"
     ]
    }
   ],
   "source": [
    "filename = './ai.ja.txt.parsed'\n",
    "\n",
    "sentences = []\n",
    "morphs = []\n",
    "with open(filename, mode='r') as f:\n",
    "      for line in f:\n",
    "            if line[0] == '*':  # 係り受け関係を表す行：スキップ\n",
    "                continue\n",
    "            elif line != 'EOS\\n':  # 文末以外：Morphを適用し形態素リストに追加\n",
    "                morphs.append(Morph(line))\n",
    "            else:  # 文末：形態素リストを文リストに追加\n",
    "                sentences.append(morphs)\n",
    "                morphs = []\n",
    "\n",
    "# 確認\n",
    "for m in sentences[2]:\n",
    "    print(vars(m))"
   ]
  },
  {
   "cell_type": "code",
   "execution_count": 42,
   "metadata": {},
   "outputs": [
    {
     "name": "stdout",
     "output_type": "stream",
     "text": [
      "{'surface': '人工', 'base': '人工', 'pos': '名詞', 'pos1': '一般'}\n",
      "{'surface': '知能', 'base': '知能', 'pos': '名詞', 'pos1': '一般'}\n",
      "{'surface': '（', 'base': '（', 'pos': '記号', 'pos1': '括弧開'}\n",
      "{'surface': 'じん', 'base': 'じん', 'pos': '名詞', 'pos1': '一般'}\n",
      "{'surface': 'こうち', 'base': 'こうち', 'pos': '名詞', 'pos1': '一般'}\n",
      "{'surface': 'のう', 'base': 'のう', 'pos': '助詞', 'pos1': '終助詞'}\n",
      "{'surface': '、', 'base': '、', 'pos': '記号', 'pos1': '読点'}\n",
      "{'surface': '、', 'base': '、', 'pos': '記号', 'pos1': '読点'}\n",
      "{'surface': 'AI', 'base': '*\\n', 'pos': '名詞', 'pos1': '一般'}\n",
      "{'surface': '〈', 'base': '〈', 'pos': '記号', 'pos1': '括弧開'}\n",
      "{'surface': 'エーアイ', 'base': '*\\n', 'pos': '名詞', 'pos1': '固有名詞'}\n",
      "{'surface': '〉', 'base': '〉', 'pos': '記号', 'pos1': '括弧閉'}\n",
      "{'surface': '）', 'base': '）', 'pos': '記号', 'pos1': '括弧閉'}\n",
      "{'surface': 'と', 'base': 'と', 'pos': '助詞', 'pos1': '格助詞'}\n",
      "{'surface': 'は', 'base': 'は', 'pos': '助詞', 'pos1': '係助詞'}\n",
      "{'surface': '、', 'base': '、', 'pos': '記号', 'pos1': '読点'}\n",
      "{'surface': '「', 'base': '「', 'pos': '記号', 'pos1': '括弧開'}\n",
      "{'surface': '『', 'base': '『', 'pos': '記号', 'pos1': '括弧開'}\n",
      "{'surface': '計算', 'base': '計算', 'pos': '名詞', 'pos1': 'サ変接続'}\n",
      "{'surface': '（', 'base': '（', 'pos': '記号', 'pos1': '括弧開'}\n",
      "{'surface': '）', 'base': '）', 'pos': '記号', 'pos1': '括弧閉'}\n",
      "{'surface': '』', 'base': '』', 'pos': '記号', 'pos1': '括弧閉'}\n",
      "{'surface': 'という', 'base': 'という', 'pos': '助詞', 'pos1': '格助詞'}\n",
      "{'surface': '概念', 'base': '概念', 'pos': '名詞', 'pos1': '一般'}\n",
      "{'surface': 'と', 'base': 'と', 'pos': '助詞', 'pos1': '並立助詞'}\n",
      "{'surface': '『', 'base': '『', 'pos': '記号', 'pos1': '括弧開'}\n",
      "{'surface': 'コンピュータ', 'base': 'コンピュータ', 'pos': '名詞', 'pos1': '一般'}\n",
      "{'surface': '（', 'base': '（', 'pos': '記号', 'pos1': '括弧開'}\n",
      "{'surface': '）', 'base': '）', 'pos': '記号', 'pos1': '括弧閉'}\n",
      "{'surface': '』', 'base': '』', 'pos': '記号', 'pos1': '括弧閉'}\n",
      "{'surface': 'という', 'base': 'という', 'pos': '助詞', 'pos1': '格助詞'}\n",
      "{'surface': '道具', 'base': '道具', 'pos': '名詞', 'pos1': '一般'}\n",
      "{'surface': 'を', 'base': 'を', 'pos': '助詞', 'pos1': '格助詞'}\n",
      "{'surface': '用い', 'base': '用いる', 'pos': '動詞', 'pos1': '自立'}\n",
      "{'surface': 'て', 'base': 'て', 'pos': '助詞', 'pos1': '接続助詞'}\n",
      "{'surface': '『', 'base': '『', 'pos': '記号', 'pos1': '括弧開'}\n",
      "{'surface': '知能', 'base': '知能', 'pos': '名詞', 'pos1': '一般'}\n",
      "{'surface': '』', 'base': '』', 'pos': '記号', 'pos1': '括弧閉'}\n",
      "{'surface': 'を', 'base': 'を', 'pos': '助詞', 'pos1': '格助詞'}\n",
      "{'surface': '研究', 'base': '研究', 'pos': '名詞', 'pos1': 'サ変接続'}\n",
      "{'surface': 'する', 'base': 'する', 'pos': '動詞', 'pos1': '自立'}\n",
      "{'surface': '計算', 'base': '計算', 'pos': '名詞', 'pos1': 'サ変接続'}\n",
      "{'surface': '機', 'base': '機', 'pos': '名詞', 'pos1': '接尾'}\n",
      "{'surface': '科学', 'base': '科学', 'pos': '名詞', 'pos1': '一般'}\n",
      "{'surface': '（', 'base': '（', 'pos': '記号', 'pos1': '括弧開'}\n",
      "{'surface': '）', 'base': '）', 'pos': '記号', 'pos1': '括弧閉'}\n",
      "{'surface': 'の', 'base': 'の', 'pos': '助詞', 'pos1': '連体化'}\n",
      "{'surface': '一', 'base': '一', 'pos': '名詞', 'pos1': '数'}\n",
      "{'surface': '分野', 'base': '分野', 'pos': '名詞', 'pos1': '一般'}\n",
      "{'surface': '」', 'base': '」', 'pos': '記号', 'pos1': '括弧閉'}\n",
      "{'surface': 'を', 'base': 'を', 'pos': '助詞', 'pos1': '格助詞'}\n",
      "{'surface': '指す', 'base': '指す', 'pos': '動詞', 'pos1': '自立'}\n",
      "{'surface': '語', 'base': '語', 'pos': '名詞', 'pos1': '一般'}\n",
      "{'surface': '。', 'base': '。', 'pos': '記号', 'pos1': '句点'}\n",
      "{'surface': '「', 'base': '「', 'pos': '記号', 'pos1': '括弧開'}\n",
      "{'surface': '言語', 'base': '言語', 'pos': '名詞', 'pos1': '一般'}\n",
      "{'surface': 'の', 'base': 'の', 'pos': '助詞', 'pos1': '連体化'}\n",
      "{'surface': '理解', 'base': '理解', 'pos': '名詞', 'pos1': 'サ変接続'}\n",
      "{'surface': 'や', 'base': 'や', 'pos': '助詞', 'pos1': '並立助詞'}\n",
      "{'surface': '推論', 'base': '推論', 'pos': '名詞', 'pos1': 'サ変接続'}\n",
      "{'surface': '、', 'base': '、', 'pos': '記号', 'pos1': '読点'}\n",
      "{'surface': '問題', 'base': '問題', 'pos': '名詞', 'pos1': 'ナイ形容詞語幹'}\n",
      "{'surface': '解決', 'base': '解決', 'pos': '名詞', 'pos1': 'サ変接続'}\n",
      "{'surface': 'など', 'base': 'など', 'pos': '助詞', 'pos1': '副助詞'}\n",
      "{'surface': 'の', 'base': 'の', 'pos': '助詞', 'pos1': '連体化'}\n",
      "{'surface': '知的', 'base': '知的', 'pos': '名詞', 'pos1': '一般'}\n",
      "{'surface': '行動', 'base': '行動', 'pos': '名詞', 'pos1': 'サ変接続'}\n",
      "{'surface': 'を', 'base': 'を', 'pos': '助詞', 'pos1': '格助詞'}\n",
      "{'surface': '人間', 'base': '人間', 'pos': '名詞', 'pos1': '一般'}\n",
      "{'surface': 'に', 'base': 'に', 'pos': '助詞', 'pos1': '格助詞'}\n",
      "{'surface': '代わっ', 'base': '代わる', 'pos': '動詞', 'pos1': '自立'}\n",
      "{'surface': 'て', 'base': 'て', 'pos': '助詞', 'pos1': '接続助詞'}\n",
      "{'surface': 'コンピューター', 'base': 'コンピューター', 'pos': '名詞', 'pos1': '一般'}\n",
      "{'surface': 'に', 'base': 'に', 'pos': '助詞', 'pos1': '格助詞'}\n",
      "{'surface': '行わ', 'base': '行う', 'pos': '動詞', 'pos1': '自立'}\n",
      "{'surface': 'せる', 'base': 'せる', 'pos': '動詞', 'pos1': '接尾'}\n",
      "{'surface': '技術', 'base': '技術', 'pos': '名詞', 'pos1': '一般'}\n",
      "{'surface': '」', 'base': '」', 'pos': '記号', 'pos1': '括弧閉'}\n",
      "{'surface': '、', 'base': '、', 'pos': '記号', 'pos1': '読点'}\n",
      "{'surface': 'または', 'base': 'または', 'pos': '接続詞', 'pos1': '*'}\n",
      "{'surface': '、', 'base': '、', 'pos': '記号', 'pos1': '読点'}\n",
      "{'surface': '「', 'base': '「', 'pos': '記号', 'pos1': '括弧開'}\n",
      "{'surface': '計算', 'base': '計算', 'pos': '名詞', 'pos1': 'サ変接続'}\n",
      "{'surface': '機', 'base': '機', 'pos': '名詞', 'pos1': '接尾'}\n",
      "{'surface': '（', 'base': '（', 'pos': '記号', 'pos1': '括弧開'}\n",
      "{'surface': 'コンピュータ', 'base': 'コンピュータ', 'pos': '名詞', 'pos1': '一般'}\n",
      "{'surface': '）', 'base': '）', 'pos': '記号', 'pos1': '括弧閉'}\n",
      "{'surface': 'による', 'base': 'による', 'pos': '助詞', 'pos1': '格助詞'}\n",
      "{'surface': '知的', 'base': '知的', 'pos': '名詞', 'pos1': '形容動詞語幹'}\n",
      "{'surface': 'な', 'base': 'だ', 'pos': '助動詞', 'pos1': '*'}\n",
      "{'surface': '情報処理', 'base': '情報処理', 'pos': '名詞', 'pos1': '一般'}\n",
      "{'surface': 'システム', 'base': 'システム', 'pos': '名詞', 'pos1': '一般'}\n",
      "{'surface': 'の', 'base': 'の', 'pos': '助詞', 'pos1': '連体化'}\n",
      "{'surface': '設計', 'base': '設計', 'pos': '名詞', 'pos1': 'サ変接続'}\n",
      "{'surface': 'や', 'base': 'や', 'pos': '助詞', 'pos1': '並立助詞'}\n",
      "{'surface': '実現', 'base': '実現', 'pos': '名詞', 'pos1': 'サ変接続'}\n",
      "{'surface': 'に関する', 'base': 'に関する', 'pos': '助詞', 'pos1': '格助詞'}\n",
      "{'surface': '研究', 'base': '研究', 'pos': '名詞', 'pos1': 'サ変接続'}\n",
      "{'surface': '分野', 'base': '分野', 'pos': '名詞', 'pos1': '一般'}\n",
      "{'surface': '」', 'base': '」', 'pos': '記号', 'pos1': '括弧閉'}\n",
      "{'surface': 'と', 'base': 'と', 'pos': '助詞', 'pos1': '格助詞'}\n",
      "{'surface': 'も', 'base': 'も', 'pos': '助詞', 'pos1': '係助詞'}\n",
      "{'surface': 'さ', 'base': 'する', 'pos': '動詞', 'pos1': '自立'}\n",
      "{'surface': 'れる', 'base': 'れる', 'pos': '動詞', 'pos1': '接尾'}\n",
      "{'surface': '。', 'base': '。', 'pos': '記号', 'pos1': '句点'}\n"
     ]
    }
   ],
   "source": [
    "filename = \"./ai.ja.txt.parsed\"\n",
    "\n",
    "sentences = []\n",
    "morphs = []\n",
    "with open(filename, mode='r') as f:\n",
    "    for line in f:\n",
    "        if line[0] == \"*\":\n",
    "            continue\n",
    "        elif line != \"EOS\\n\":\n",
    "            morphs.append(Morph(line))\n",
    "        else:\n",
    "            sentences.append(morphs)\n",
    "            morphs = []\n",
    "            \n",
    "for m in sentences[2]:\n",
    "    print(vars(m))"
   ]
  },
  {
   "cell_type": "code",
   "execution_count": 43,
   "metadata": {},
   "outputs": [],
   "source": [
    "class Chunk():\n",
    "      def __init__(self, morphs, dst):\n",
    "            self.morphs = morphs\n",
    "            self.dst = dst\n",
    "            self.srcs = []\n",
    "\n",
    "\n",
    "class Sentence():\n",
    "      def __init__(self, chunks):\n",
    "            self.chunks = chunks\n",
    "            for i, chunk in enumerate(self.chunks):\n",
    "                  if chunk.dst not in [None, -1]:\n",
    "                        self.chunks[chunk.dst].srcs.append(i)"
   ]
  },
  {
   "cell_type": "code",
   "execution_count": 44,
   "metadata": {},
   "outputs": [
    {
     "name": "stdout",
     "output_type": "stream",
     "text": [
      "['人工', '知能'] 17 []\n",
      "['（', 'じん', 'こうち', 'のう', '、', '、'] 17 []\n",
      "['AI'] 3 []\n",
      "['〈', 'エーアイ', '〉', '）', 'と', 'は', '、'] 17 [2]\n",
      "['「', '『', '計算'] 5 []\n",
      "['（', '）', '』', 'という'] 9 [4]\n",
      "['概念', 'と'] 9 []\n",
      "['『', 'コンピュータ'] 8 []\n",
      "['（', '）', '』', 'という'] 9 [7]\n",
      "['道具', 'を'] 10 [5, 6, 8]\n",
      "['用い', 'て'] 12 [9]\n",
      "['『', '知能', '』', 'を'] 12 []\n",
      "['研究', 'する'] 13 [10, 11]\n",
      "['計算', '機', '科学'] 14 [12]\n",
      "['（', '）', 'の'] 15 [13]\n",
      "['一', '分野', '」', 'を'] 16 [14]\n",
      "['指す'] 17 [15]\n",
      "['語', '。'] 34 [0, 1, 3, 16]\n",
      "['「', '言語', 'の'] 20 []\n",
      "['理解', 'や'] 20 []\n",
      "['推論', '、'] 21 [18, 19]\n",
      "['問題', '解決', 'など', 'の'] 22 [20]\n",
      "['知的', '行動', 'を'] 24 [21]\n",
      "['人間', 'に'] 24 []\n",
      "['代わっ', 'て'] 26 [22, 23]\n",
      "['コンピューター', 'に'] 26 []\n",
      "['行わ', 'せる'] 27 [24, 25]\n",
      "['技術', '」', '、', 'または', '、'] 34 [26]\n",
      "['「', '計算', '機'] 29 []\n",
      "['（', 'コンピュータ', '）', 'による'] 31 [28]\n",
      "['知的', 'な'] 31 []\n",
      "['情報処理', 'システム', 'の'] 33 [29, 30]\n",
      "['設計', 'や'] 33 []\n",
      "['実現', 'に関する'] 34 [31, 32]\n",
      "['研究', '分野', '」', 'と', 'も'] 35 [17, 27, 33]\n",
      "['さ', 'れる', '。'] -1 [34]\n"
     ]
    }
   ],
   "source": [
    "filename = './ai.ja.txt.parsed'\n",
    "\n",
    "sentences = []\n",
    "chunks = []\n",
    "morphs = []\n",
    "with open(filename, mode='r') as f:\n",
    "      for line in f:\n",
    "            if line[0] == '*':# 係り受け関係を表す行：直前の文節の情報にChunkを適用し文節リストに追加 + 直後の文節の係り先を取得\n",
    "                if len(morphs) > 0:         \n",
    "                    chunks.append(Chunk(morphs, dst))\n",
    "                    morphs = []\n",
    "                dst = int(line.split(' ')[2].rstrip('D'))\n",
    "            elif line != 'EOS\\n':  # 文末以外：Morphを適用し形態素リストに追加\n",
    "                morphs.append(Morph(line))\n",
    "            else:  # 文末：直前の文節の情報にChunkを適用し文節リストに追加 + 文節リストにSentenceを適用し文リストに追加\n",
    "                chunks.append(Chunk(morphs, dst))\n",
    "                sentences.append(Sentence(chunks))\n",
    "                morphs = []\n",
    "                chunks = []\n",
    "                dst = None\n",
    "\n",
    "# 確認\n",
    "for chunk in sentences[2].chunks:\n",
    "    print([morph.surface for morph in chunk.morphs], chunk.dst, chunk.srcs)"
   ]
  },
  {
   "cell_type": "code",
   "execution_count": 45,
   "metadata": {},
   "outputs": [
    {
     "name": "stdout",
     "output_type": "stream",
     "text": [
      "人工知能\t語\n",
      "じんこうちのう\t語\n",
      "AI\tエーアイとは\n",
      "エーアイとは\t語\n",
      "計算\tという\n",
      "という\t道具を\n",
      "概念と\t道具を\n",
      "コンピュータ\tという\n",
      "という\t道具を\n",
      "道具を\t用いて\n",
      "用いて\t研究する\n",
      "知能を\t研究する\n",
      "研究する\t計算機科学\n",
      "計算機科学\tの\n",
      "の\t一分野を\n",
      "一分野を\t指す\n",
      "指す\t語\n",
      "語\t研究分野とも\n",
      "言語の\t推論\n",
      "理解や\t推論\n",
      "推論\t問題解決などの\n",
      "問題解決などの\t知的行動を\n",
      "知的行動を\t代わって\n",
      "人間に\t代わって\n",
      "代わって\t行わせる\n",
      "コンピューターに\t行わせる\n",
      "行わせる\t技術または\n",
      "技術または\t研究分野とも\n",
      "計算機\tコンピュータによる\n",
      "コンピュータによる\t情報処理システムの\n",
      "知的な\t情報処理システムの\n",
      "情報処理システムの\t実現に関する\n",
      "設計や\t実現に関する\n",
      "実現に関する\t研究分野とも\n",
      "研究分野とも\tされる\n"
     ]
    }
   ],
   "source": [
    "sentence = sentences[2]\n",
    "for chunk in sentence.chunks:\n",
    "    if int(chunk.dst) != -1:\n",
    "        modifier = ''.join([morph.surface if morph.pos != '記号' else '' for morph in chunk.morphs])\n",
    "        modifiee = ''.join([morph.surface if morph.pos != '記号' else '' for morph in sentence.chunks[int(chunk.dst)].morphs])\n",
    "        print(modifier, modifiee, sep='\\t')"
   ]
  },
  {
   "cell_type": "code",
   "execution_count": 46,
   "metadata": {},
   "outputs": [
    {
     "name": "stdout",
     "output_type": "stream",
     "text": [
      "道具を\t用いて\n",
      "知能を\t研究する\n",
      "一分野を\t指す\n",
      "知的行動を\t代わって\n",
      "人間に\t代わって\n",
      "コンピューターに\t行わせる\n",
      "研究分野とも\tされる\n"
     ]
    }
   ],
   "source": [
    "sentence = sentences[2]\n",
    "for chunk in sentence.chunks:\n",
    "    modifier = ''.join([morph.surface if morph.pos != '記号' else '' for morph in chunk.morphs])\n",
    "    modifier_pos = [morph.pos for morph in chunk.morphs]\n",
    "    modifiee = ''.join([morph.surface if morph.pos != \"記号\" else '' for morph in sentence.chunks[int(chunk.dst)].morphs])\n",
    "    modifiee_pos = [morph.pos for morph in sentence.chunks[int(chunk.dst)].morphs]\n",
    "    \n",
    "    if \"名詞\" in modifier_pos and  \"動詞\" in modifiee_pos:\n",
    "        print(modifier, modifiee, sep=\"\\t\")"
   ]
  },
  {
   "cell_type": "code",
   "execution_count": 47,
   "metadata": {},
   "outputs": [],
   "source": [
    "import pydot\n",
    "from IPython.display import Image, display_png\n",
    "from graphviz import Digraph"
   ]
  },
  {
   "cell_type": "code",
   "execution_count": 59,
   "metadata": {},
   "outputs": [],
   "source": [
    "sentence = sentences[7]\n",
    "edges = []\n",
    "for id, chunk in enumerate(sentence.chunks):\n",
    "    if int(chunk.dst) != -1:\n",
    "        modifier = ''.join([morph.surface if morph.pos != \"記号\" else '' for morph in chunk.morphs] + ['(' + str(id) + ')'])\n",
    "        modifiee = ''.join([morph.surface if morph.pos != \"記号\" else '' for morph in sentence.chunks[int(chunk.dst)].morphs]\n",
    "                           + ['(' + str(chunk.dst) + ')'])\n",
    "        edges.append([modifier, modifiee])\n",
    "n = pydot.Node(\"node\")\n",
    "n.fontname = \"IPAGothic\"\n",
    "g = pydot.graph_from_edges(edges, directed=True)\n",
    "g.add_node(n)\n"
   ]
  },
  {
   "cell_type": "code",
   "execution_count": 64,
   "metadata": {},
   "outputs": [
    {
     "name": "stdout",
     "output_type": "stream",
     "text": [
      "2pageSessions.csv          cabocha-0.69.tar.bz2  neko.txt.mecab\n",
      "NewsAggregatorDataset.zip  col1.txt              newsCorpora.csv\n",
      "Untitled.ipynb             col2.txt              newsCorpora_re.csv\n",
      "\u001b[0m\u001b[01;34m__MACOSX\u001b[0m/                  crfpp.tar.gz          popular-names.txt\n",
      "ai.ja.txt                  jawiki-country.json   readme.ai.ja.md\n",
      "ai.ja.txt.cabocha          merged_1_2.txt        readme.txt\n",
      "ai.ja.txt.parsed           neko.txt\n"
     ]
    }
   ],
   "source": [
    "ls"
   ]
  },
  {
   "cell_type": "code",
   "execution_count": null,
   "metadata": {},
   "outputs": [],
   "source": []
  },
  {
   "cell_type": "code",
   "execution_count": 60,
   "metadata": {},
   "outputs": [],
   "source": [
    "import pandas as pd\n",
    "from sklearn.model_selection import train_test_split"
   ]
  },
  {
   "cell_type": "code",
   "execution_count": 70,
   "metadata": {},
   "outputs": [],
   "source": [
    "df = pd.read_csv(\"./newsCorpora_re.csv\", header=None, sep='\\t', names = [\"ID\", \"TITLE\", \"URL\", \"PUBLISHER\", \"CATEGORY\", \"STORY\", \"HOSTNAME\", \"TIMESTAMP\"])\n",
    "df = df.loc[df[\"PUBLISHER\"].isin([\"Recuters\", \"Huffington Post\", \"Businessweek\", \"Contactmusic.com\", \"Daily Mail\"]), [\"TITLE\", \"CATEGORY\"]]"
   ]
  },
  {
   "cell_type": "code",
   "execution_count": 72,
   "metadata": {},
   "outputs": [],
   "source": [
    "train, valid_test = train_test_split(df, test_size=0.2, shuffle=True, random_state=123, stratify=df[\"CATEGORY\"])\n",
    "valid, test = train_test_split(valid_test, test_size=0.5, shuffle=True, random_state=123, stratify=valid_test[\"CATEGORY\"])"
   ]
  },
  {
   "cell_type": "code",
   "execution_count": 73,
   "metadata": {},
   "outputs": [],
   "source": [
    "train.to_csv(\"./train.txt\", sep='\\t', index=False)\n",
    "valid.to_csv(\"./valid.txt\", sep='\\t', index=False)\n",
    "test.to_csv(\"./test.txt\", sep='\\t', index=False)"
   ]
  },
  {
   "cell_type": "code",
   "execution_count": 74,
   "metadata": {},
   "outputs": [
    {
     "name": "stdout",
     "output_type": "stream",
     "text": [
      "e    4087\n",
      "b    1976\n",
      "t     918\n",
      "m     580\n",
      "Name: CATEGORY, dtype: int64\n",
      "e    511\n",
      "b    247\n",
      "t    115\n",
      "m     72\n",
      "Name: CATEGORY, dtype: int64\n",
      "e    511\n",
      "b    247\n",
      "t    115\n",
      "m     73\n",
      "Name: CATEGORY, dtype: int64\n"
     ]
    }
   ],
   "source": [
    "print(train[\"CATEGORY\"].value_counts())\n",
    "print(valid[\"CATEGORY\"].value_counts())\n",
    "print(test[\"CATEGORY\"].value_counts())"
   ]
  },
  {
   "cell_type": "code",
   "execution_count": 75,
   "metadata": {},
   "outputs": [],
   "source": [
    "import string \n",
    "import re\n",
    "\n",
    "def preprocessing(text):\n",
    "    table = str.maketrans(string.punctuation, \" \"*len(string.punctuation))\n",
    "    text = text.translate(table)\n",
    "    text = text.lower()\n",
    "    text = re.sub('[0-9]+', '0', text)\n",
    "    \n",
    "    return text"
   ]
  },
  {
   "cell_type": "code",
   "execution_count": 76,
   "metadata": {},
   "outputs": [
    {
     "name": "stdout",
     "output_type": "stream",
     "text": [
      "                                               TITLE CATEGORY\n",
      "0  chris pine slapped with six month driving ban ...        e\n",
      "1  dove criticized for  manipulative  beauty patc...        m\n",
      "2  is elle fanning hollywood s coolest teen  male...        e\n",
      "3  hormel to acquire muscle milk maker for  0 mil...        b\n",
      "4  colin firth declares  conscious uncoupling  fr...        e\n"
     ]
    }
   ],
   "source": [
    "df = pd.concat([train, valid, test], axis=0)\n",
    "df.reset_index(drop=True, inplace=True)\n",
    "\n",
    "df[\"TITLE\"] = df[\"TITLE\"].map(lambda x: preprocessing(x))\n",
    "\n",
    "print(df.head())"
   ]
  },
  {
   "cell_type": "code",
   "execution_count": 79,
   "metadata": {},
   "outputs": [
    {
     "name": "stdout",
     "output_type": "stream",
     "text": [
      "    0k   0m   0s  0th  abbvie  abc  about  about the  about to  above  ...  \\\n",
      "0  0.0  0.0  0.0  0.0     0.0  0.0    0.0        0.0       0.0    0.0  ...   \n",
      "1  0.0  0.0  0.0  0.0     0.0  0.0    0.0        0.0       0.0    0.0  ...   \n",
      "2  0.0  0.0  0.0  0.0     0.0  0.0    0.0        0.0       0.0    0.0  ...   \n",
      "3  0.0  0.0  0.0  0.0     0.0  0.0    0.0        0.0       0.0    0.0  ...   \n",
      "4  0.0  0.0  0.0  0.0     0.0  0.0    0.0        0.0       0.0    0.0  ...   \n",
      "\n",
      "   you can  you need  you to  young  your  your mother  yuan  zac  zac efron  \\\n",
      "0      0.0       0.0     0.0    0.0   0.0          0.0   0.0  0.0        0.0   \n",
      "1      0.0       0.0     0.0    0.0   0.0          0.0   0.0  0.0        0.0   \n",
      "2      0.0       0.0     0.0    0.0   0.0          0.0   0.0  0.0        0.0   \n",
      "3      0.0       0.0     0.0    0.0   0.0          0.0   0.0  0.0        0.0   \n",
      "4      0.0       0.0     0.0    0.0   0.0          0.0   0.0  0.0        0.0   \n",
      "\n",
      "   zendaya  \n",
      "0      0.0  \n",
      "1      0.0  \n",
      "2      0.0  \n",
      "3      0.0  \n",
      "4      0.0  \n",
      "\n",
      "[5 rows x 2018 columns]\n"
     ]
    }
   ],
   "source": [
    "from sklearn.feature_extraction.text import TfidfVectorizer\n",
    "\n",
    "train_valid = df[:len(train) + len(valid)]\n",
    "test = df[len(train) + len(valid):]\n",
    "\n",
    "# TfidfVectorizer\n",
    "vec_tfidf = TfidfVectorizer(min_df=10, ngram_range=(1, 2))  # ngram_rangeでTF-IDFを計算する単語の長さを指定\n",
    "\n",
    "# ベクトル化\n",
    "X_train_valid = vec_tfidf.fit_transform(train_valid['TITLE'])  # testの情報は使わない\n",
    "X_test = vec_tfidf.transform(test['TITLE'])\n",
    "\n",
    "# ベクトルをデータフレームに変換\n",
    "X_train_valid = pd.DataFrame(X_train_valid.toarray(), columns=vec_tfidf.get_feature_names())\n",
    "X_test = pd.DataFrame(X_test.toarray(), columns=vec_tfidf.get_feature_names())\n",
    "\n",
    "# データの分割\n",
    "X_train = X_train_valid[:len(train)]\n",
    "X_valid = X_train_valid[len(train):]\n",
    "\n",
    "# データの保存\n",
    "X_train.to_csv('./X_train.txt', sep='\\t', index=False)\n",
    "X_valid.to_csv('./X_valid.txt', sep='\\t', index=False)\n",
    "X_test.to_csv('./X_test.txt', sep='\\t', index=False)"
   ]
  },
  {
   "cell_type": "code",
   "execution_count": 80,
   "metadata": {},
   "outputs": [
    {
     "data": {
      "text/html": [
       "<div>\n",
       "<style scoped>\n",
       "    .dataframe tbody tr th:only-of-type {\n",
       "        vertical-align: middle;\n",
       "    }\n",
       "\n",
       "    .dataframe tbody tr th {\n",
       "        vertical-align: top;\n",
       "    }\n",
       "\n",
       "    .dataframe thead th {\n",
       "        text-align: right;\n",
       "    }\n",
       "</style>\n",
       "<table border=\"1\" class=\"dataframe\">\n",
       "  <thead>\n",
       "    <tr style=\"text-align: right;\">\n",
       "      <th></th>\n",
       "      <th>0k</th>\n",
       "      <th>0m</th>\n",
       "      <th>0s</th>\n",
       "      <th>0th</th>\n",
       "      <th>abbvie</th>\n",
       "      <th>abc</th>\n",
       "      <th>about</th>\n",
       "      <th>about the</th>\n",
       "      <th>about to</th>\n",
       "      <th>above</th>\n",
       "      <th>...</th>\n",
       "      <th>you can</th>\n",
       "      <th>you need</th>\n",
       "      <th>you to</th>\n",
       "      <th>young</th>\n",
       "      <th>your</th>\n",
       "      <th>your mother</th>\n",
       "      <th>yuan</th>\n",
       "      <th>zac</th>\n",
       "      <th>zac efron</th>\n",
       "      <th>zendaya</th>\n",
       "    </tr>\n",
       "  </thead>\n",
       "  <tbody>\n",
       "    <tr>\n",
       "      <th>0</th>\n",
       "      <td>0.0</td>\n",
       "      <td>0.0</td>\n",
       "      <td>0.0</td>\n",
       "      <td>0.0</td>\n",
       "      <td>0.0</td>\n",
       "      <td>0.0</td>\n",
       "      <td>0.0</td>\n",
       "      <td>0.0</td>\n",
       "      <td>0.0</td>\n",
       "      <td>0.0</td>\n",
       "      <td>...</td>\n",
       "      <td>0.0</td>\n",
       "      <td>0.0</td>\n",
       "      <td>0.0</td>\n",
       "      <td>0.0</td>\n",
       "      <td>0.0</td>\n",
       "      <td>0.0</td>\n",
       "      <td>0.0</td>\n",
       "      <td>0.0</td>\n",
       "      <td>0.0</td>\n",
       "      <td>0.0</td>\n",
       "    </tr>\n",
       "    <tr>\n",
       "      <th>1</th>\n",
       "      <td>0.0</td>\n",
       "      <td>0.0</td>\n",
       "      <td>0.0</td>\n",
       "      <td>0.0</td>\n",
       "      <td>0.0</td>\n",
       "      <td>0.0</td>\n",
       "      <td>0.0</td>\n",
       "      <td>0.0</td>\n",
       "      <td>0.0</td>\n",
       "      <td>0.0</td>\n",
       "      <td>...</td>\n",
       "      <td>0.0</td>\n",
       "      <td>0.0</td>\n",
       "      <td>0.0</td>\n",
       "      <td>0.0</td>\n",
       "      <td>0.0</td>\n",
       "      <td>0.0</td>\n",
       "      <td>0.0</td>\n",
       "      <td>0.0</td>\n",
       "      <td>0.0</td>\n",
       "      <td>0.0</td>\n",
       "    </tr>\n",
       "    <tr>\n",
       "      <th>2</th>\n",
       "      <td>0.0</td>\n",
       "      <td>0.0</td>\n",
       "      <td>0.0</td>\n",
       "      <td>0.0</td>\n",
       "      <td>0.0</td>\n",
       "      <td>0.0</td>\n",
       "      <td>0.0</td>\n",
       "      <td>0.0</td>\n",
       "      <td>0.0</td>\n",
       "      <td>0.0</td>\n",
       "      <td>...</td>\n",
       "      <td>0.0</td>\n",
       "      <td>0.0</td>\n",
       "      <td>0.0</td>\n",
       "      <td>0.0</td>\n",
       "      <td>0.0</td>\n",
       "      <td>0.0</td>\n",
       "      <td>0.0</td>\n",
       "      <td>0.0</td>\n",
       "      <td>0.0</td>\n",
       "      <td>0.0</td>\n",
       "    </tr>\n",
       "    <tr>\n",
       "      <th>3</th>\n",
       "      <td>0.0</td>\n",
       "      <td>0.0</td>\n",
       "      <td>0.0</td>\n",
       "      <td>0.0</td>\n",
       "      <td>0.0</td>\n",
       "      <td>0.0</td>\n",
       "      <td>0.0</td>\n",
       "      <td>0.0</td>\n",
       "      <td>0.0</td>\n",
       "      <td>0.0</td>\n",
       "      <td>...</td>\n",
       "      <td>0.0</td>\n",
       "      <td>0.0</td>\n",
       "      <td>0.0</td>\n",
       "      <td>0.0</td>\n",
       "      <td>0.0</td>\n",
       "      <td>0.0</td>\n",
       "      <td>0.0</td>\n",
       "      <td>0.0</td>\n",
       "      <td>0.0</td>\n",
       "      <td>0.0</td>\n",
       "    </tr>\n",
       "    <tr>\n",
       "      <th>4</th>\n",
       "      <td>0.0</td>\n",
       "      <td>0.0</td>\n",
       "      <td>0.0</td>\n",
       "      <td>0.0</td>\n",
       "      <td>0.0</td>\n",
       "      <td>0.0</td>\n",
       "      <td>0.0</td>\n",
       "      <td>0.0</td>\n",
       "      <td>0.0</td>\n",
       "      <td>0.0</td>\n",
       "      <td>...</td>\n",
       "      <td>0.0</td>\n",
       "      <td>0.0</td>\n",
       "      <td>0.0</td>\n",
       "      <td>0.0</td>\n",
       "      <td>0.0</td>\n",
       "      <td>0.0</td>\n",
       "      <td>0.0</td>\n",
       "      <td>0.0</td>\n",
       "      <td>0.0</td>\n",
       "      <td>0.0</td>\n",
       "    </tr>\n",
       "  </tbody>\n",
       "</table>\n",
       "<p>5 rows × 2018 columns</p>\n",
       "</div>"
      ],
      "text/plain": [
       "    0k   0m   0s  0th  abbvie  abc  about  about the  about to  above  ...  \\\n",
       "0  0.0  0.0  0.0  0.0     0.0  0.0    0.0        0.0       0.0    0.0  ...   \n",
       "1  0.0  0.0  0.0  0.0     0.0  0.0    0.0        0.0       0.0    0.0  ...   \n",
       "2  0.0  0.0  0.0  0.0     0.0  0.0    0.0        0.0       0.0    0.0  ...   \n",
       "3  0.0  0.0  0.0  0.0     0.0  0.0    0.0        0.0       0.0    0.0  ...   \n",
       "4  0.0  0.0  0.0  0.0     0.0  0.0    0.0        0.0       0.0    0.0  ...   \n",
       "\n",
       "   you can  you need  you to  young  your  your mother  yuan  zac  zac efron  \\\n",
       "0      0.0       0.0     0.0    0.0   0.0          0.0   0.0  0.0        0.0   \n",
       "1      0.0       0.0     0.0    0.0   0.0          0.0   0.0  0.0        0.0   \n",
       "2      0.0       0.0     0.0    0.0   0.0          0.0   0.0  0.0        0.0   \n",
       "3      0.0       0.0     0.0    0.0   0.0          0.0   0.0  0.0        0.0   \n",
       "4      0.0       0.0     0.0    0.0   0.0          0.0   0.0  0.0        0.0   \n",
       "\n",
       "   zendaya  \n",
       "0      0.0  \n",
       "1      0.0  \n",
       "2      0.0  \n",
       "3      0.0  \n",
       "4      0.0  \n",
       "\n",
       "[5 rows x 2018 columns]"
      ]
     },
     "execution_count": 80,
     "metadata": {},
     "output_type": "execute_result"
    }
   ],
   "source": [
    "X_train.head()"
   ]
  },
  {
   "cell_type": "code",
   "execution_count": 82,
   "metadata": {},
   "outputs": [
    {
     "data": {
      "text/plain": [
       "LogisticRegression(max_iter=10000, random_state=123)"
      ]
     },
     "execution_count": 82,
     "metadata": {},
     "output_type": "execute_result"
    }
   ],
   "source": [
    "from sklearn.linear_model import LogisticRegression\n",
    "\n",
    "lg = LogisticRegression(random_state=123, max_iter=10000)\n",
    "lg.fit(X_train, train[\"CATEGORY\"])"
   ]
  },
  {
   "cell_type": "code",
   "execution_count": 83,
   "metadata": {},
   "outputs": [],
   "source": [
    "import numpy as np\n",
    "def score_lg(lg, X):\n",
    "    return [np.max(lg.predict_proba(X), axis=1), lg.predict(X)]"
   ]
  },
  {
   "cell_type": "code",
   "execution_count": 84,
   "metadata": {},
   "outputs": [],
   "source": [
    "train_pred = score_lg(lg, X_train)\n",
    "test_pred = score_lg(lg, X_test)"
   ]
  },
  {
   "cell_type": "code",
   "execution_count": 85,
   "metadata": {},
   "outputs": [
    {
     "name": "stdout",
     "output_type": "stream",
     "text": [
      "0.9030551514349954 0.854122621564482\n"
     ]
    }
   ],
   "source": [
    "from sklearn.metrics import accuracy_score\n",
    "\n",
    "train_accuracy = accuracy_score(train[\"CATEGORY\"], train_pred[1])\n",
    "test_accuracy = accuracy_score(test[\"CATEGORY\"], test_pred[1])\n",
    "print(train_accuracy, test_accuracy)"
   ]
  },
  {
   "cell_type": "code",
   "execution_count": 86,
   "metadata": {},
   "outputs": [],
   "source": [
    "from sklearn.metrics import confusion_matrix\n",
    "import seaborn as sns\n",
    "import matplotlib.pyplot as plt\n",
    "%matplotlib inline"
   ]
  },
  {
   "cell_type": "code",
   "execution_count": 87,
   "metadata": {},
   "outputs": [
    {
     "data": {
      "image/png": "[encoded data removed]",
      "text/plain": [
       "<Figure size 432x288 with 2 Axes>"
      ]
     },
     "metadata": {
      "needs_background": "light"
     },
     "output_type": "display_data"
    }
   ],
   "source": [
    "train_cm = confusion_matrix(train[\"CATEGORY\"], train_pred[1])\n",
    "sns.heatmap(train_cm, annot=True, cmap=\"Blues\")\n",
    "plt.show()"
   ]
  },
  {
   "cell_type": "code",
   "execution_count": null,
   "metadata": {},
   "outputs": [],
   "source": []
  }
 ],
 "metadata": {
  "kernelspec": {
   "display_name": "Python 3",
   "language": "python",
   "name": "python3"
  },
  "language_info": {
   "codemirror_mode": {
    "name": "ipython",
    "version": 3
   },
   "file_extension": ".py",
   "mimetype": "text/x-python",
   "name": "python",
   "nbconvert_exporter": "python",
   "pygments_lexer": "ipython3",
   "version": "3.7.6"
  }
 },
 "nbformat": 4,
 "nbformat_minor": 4
}
