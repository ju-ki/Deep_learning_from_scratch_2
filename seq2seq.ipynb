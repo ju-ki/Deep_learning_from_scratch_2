{
 "cells": [
  {
   "cell_type": "markdown",
   "metadata": {},
   "source": [
    "## RNNによる文章生成\n",
    "* seq2seqというニューラルネットワークを使用する\n",
    "* これを使用することで機械翻訳やチャットボットなどの様々なアプリケーションで利用することができる。"
   ]
  },
  {
   "cell_type": "code",
   "execution_count": 1,
   "metadata": {
    "jupyter": {
     "source_hidden": true
    }
   },
   "outputs": [],
   "source": [
    "import numpy as np\n",
    "import os \n",
    "import matplotlib.pyplot as plt\n",
    "%matplotlib inline\n",
    "os.chdir(\"./deep-learning-from-scratch-2-master/\")"
   ]
  },
  {
   "cell_type": "code",
   "execution_count": 2,
   "metadata": {},
   "outputs": [],
   "source": [
    "from common.functions import softmax\n",
    "from ch06.rnnlm import Rnnlm\n",
    "from ch06.better_rnnlm import BetterRnnlm\n",
    "\n",
    "class RnnlmGen(Rnnlm):\n",
    "    def generate(self, start_id, skip_ids=None, sample_size=100):\n",
    "        word_ids = [start_id]\n",
    "        \n",
    "        x = start_id\n",
    "        while len(word_ids) < sample_size:\n",
    "            x = np.array(x).reshape(1, 1)\n",
    "            score = self.predict(x)\n",
    "            p = softmax(score.flatten())\n",
    "            \n",
    "            sampled = np.random.choice(len(p), size=1, p=p)\n",
    "            if(skip_ids is None) or (sampled not in skip_ids):\n",
    "                x = sampled\n",
    "                word_ids.append(int(x))\n",
    "        return word_ids"
   ]
  },
  {
   "cell_type": "code",
   "execution_count": 3,
   "metadata": {},
   "outputs": [
    {
     "name": "stdout",
     "output_type": "stream",
     "text": [
      "you newsletter executing stir enter gerrymandering digital whittle sees prevailed salvador rubble hunt publicized prominent panamanian contracted thrust sydney indicted cabrera contrasts even misses securities turbulence jose provigo bearing impression p&g issuance spin statistical acted spielvogel lying microsoft secretaries thousands notable authority food historically yet flags relieve disabled statute duty legislature statewide wound painfully fat skidded still shared manufacture supposedly lunch seattle mills reuter trend shouting observes surveyed huge island secret bids westridge bush intervene cable-tv capable analyzing prudent cruise concerning seen wonder monthly cap boesel violent memories tendered troop rapidly line-item manhattan binge pressed price jump uncertainty group track\n"
     ]
    }
   ],
   "source": [
    "from dataset import ptb\n",
    "\n",
    "corpus, word_to_id, id_to_word = ptb.load_data(\"train\")\n",
    "vocab_size = len(word_to_id)\n",
    "corpus_size = len(corpus)\n",
    "\n",
    "model = RnnlmGen()\n",
    "\n",
    "start_word = \"you\"\n",
    "start_id = word_to_id[start_word]\n",
    "skip_words = [\"N\", \"<unk>\", \"$\"]\n",
    "skip_ids = [word_to_id[w] for w in skip_words]\n",
    "\n",
    "word_ids = model.generate(start_id, skip_ids)\n",
    "txt = ' '.join([id_to_word[i] for i in word_ids])\n",
    "txt = txt.replace(\" <eos>\", \".\\n\")\n",
    "print(txt)"
   ]
  },
  {
   "cell_type": "code",
   "execution_count": 4,
   "metadata": {},
   "outputs": [
    {
     "name": "stdout",
     "output_type": "stream",
     "text": [
      "you get the idea of that negotiations with the transition.\n",
      " the ual board collapsed about five shares at a promotion.\n",
      " the army supreme court merchants policy was responsible for several years to shy a shift.\n",
      " this man britain the new york complaint revenues will guarantee an additional wage through the positive form of assets but it familiar with how to piece on principal voters and does mr. roman 's mediator back to stay out of our.\n",
      " the negative time mr. honecker says.\n",
      " that differently is too far enough to join the rubles of the abundant\n"
     ]
    }
   ],
   "source": [
    "corpus, word_to_id, id_to_word = ptb.load_data(\"train\")\n",
    "vocab_size = len(word_to_id)\n",
    "corpus_size = len(corpus)\n",
    "\n",
    "model = RnnlmGen()\n",
    "model.load_params(\"./ch06/Rnnlm.pkl\")\n",
    "\n",
    "start_word = \"you\"\n",
    "start_id = word_to_id[start_word]\n",
    "skip_words = [\"N\", \"<unk>\", \"$\"]\n",
    "skip_ids = [word_to_id[w] for w in skip_words]\n",
    "\n",
    "word_ids = model.generate(start_id, skip_ids)\n",
    "txt = ' '.join([id_to_word[i] for i in word_ids])\n",
    "txt = txt.replace(\" <eos>\", \".\\n\")\n",
    "print(txt)"
   ]
  },
  {
   "cell_type": "code",
   "execution_count": null,
   "metadata": {},
   "outputs": [],
   "source": []
  }
 ],
 "metadata": {
  "kernelspec": {
   "display_name": "Python 3",
   "language": "python",
   "name": "python3"
  },
  "language_info": {
   "codemirror_mode": {
    "name": "ipython",
    "version": 3
   },
   "file_extension": ".py",
   "mimetype": "text/x-python",
   "name": "python",
   "nbconvert_exporter": "python",
   "pygments_lexer": "ipython3",
   "version": "3.7.6"
  }
 },
 "nbformat": 4,
 "nbformat_minor": 4
}
