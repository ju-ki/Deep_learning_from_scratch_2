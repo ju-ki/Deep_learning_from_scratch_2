{
 "cells": [
  {
   "cell_type": "markdown",
   "metadata": {},
   "source": [
    "## Attention\n",
    "* 近年のディープラーニングの分野において重要テクニックの一つ\n",
    "* seq2seqをさらに強力にする注意機構\n",
    "* 必要な情報にだけ注意を向けさせる\n",
    "\n",
    "### seq2seq2の問題点\n",
    "* 固定長のベクトルが原因\n",
    "* 入力文の長さにかかわらず常に同じ長さのベクトルに変換する必要がある。\n",
    "\n",
    "### Encoderの改良\n",
    "* LSTMレイヤの最後の隠れ状態だけをDecoderに渡していた。\n",
    "* 全て利用する\n",
    "\n",
    "### Decoderの改良"
   ]
  }
 ],
 "metadata": {
  "kernelspec": {
   "display_name": "Python 3",
   "language": "python",
   "name": "python3"
  },
  "language_info": {
   "codemirror_mode": {
    "name": "ipython",
    "version": 3
   },
   "file_extension": ".py",
   "mimetype": "text/x-python",
   "name": "python",
   "nbconvert_exporter": "python",
   "pygments_lexer": "ipython3",
   "version": "3.7.6"
  }
 },
 "nbformat": 4,
 "nbformat_minor": 4
}
